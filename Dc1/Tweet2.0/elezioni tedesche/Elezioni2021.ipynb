{
 "cells": [
  {
   "cell_type": "code",
   "execution_count": 4,
   "metadata": {},
   "outputs": [],
   "source": [
    "import snscrape\n",
    "import snscrape.modules.twitter as sn\n",
    "import numpy as np\n",
    "import pandas as pd\n",
    "from matplotlib import pyplot as plt"
   ]
  },
  {
   "cell_type": "code",
   "execution_count": 5,
   "metadata": {},
   "outputs": [],
   "source": [
    "def politico(nome) : \n",
    "    #Definizione ricerca\n",
    "    dizionario = ['\"Klimawandel\"' , '\"Emissionen\"' , '\"Die globale Erwärmung\"' ,\n",
    " '\"Klimanotstands\"' ,'\"Pariser Abkommen\"' , '\"Treibhausgase\"' , '\"renewables\"' , '\"Klimastreik\"' , '\"Klimaregierung\"']\n",
    "    claim = nome  + dizionario[0]\n",
    "    for i in dizionario :\n",
    "        claim = claim  + ' OR ' + i \n",
    "    claim = claim  + ' until:2021-9-26 since:2020-9-26'\n",
    "    print(claim)\n",
    "\n",
    "    #ricerca e conto\n",
    "    scrape = sn.TwitterSearchScraper(claim)\n",
    "    counter = 0\n",
    "    for i in scrape.get_items() :\n",
    "        counter = counter +1\n",
    "        \n",
    "    #conto totale    \n",
    "    claim = nome + ' until:2021-9-26 since:2020-9-26'\n",
    "    scrape = sn.TwitterSearchScraper(claim)\n",
    "    counter_tot = 0\n",
    "    for i in scrape.get_items() :\n",
    "        counter_tot = counter_tot +1\n",
    "\n",
    "    if(counter_tot  == 0) : print('Errore')\n",
    "\n",
    "    return counter/counter_tot , counter_tot , counter"
   ]
  },
  {
   "cell_type": "code",
   "execution_count": 6,
   "metadata": {},
   "outputs": [
    {
     "name": "stdout",
     "output_type": "stream",
     "text": [
      "from:OlafScholz\"Klimawandel\" OR \"Klimawandel\" OR \"Emissionen\" OR \"Die globale Erwärmung\" OR \"Klimanotstands\" OR \"Pariser Abkommen\" OR \"Treibhausgase\" OR \"renewables\" OR \"Klimastreik\" OR \"Klimaregierung\" until:2021-9-26 since:2020-9-26\n",
      "from:spdde\"Klimawandel\" OR \"Klimawandel\" OR \"Emissionen\" OR \"Die globale Erwärmung\" OR \"Klimanotstands\" OR \"Pariser Abkommen\" OR \"Treibhausgase\" OR \"renewables\" OR \"Klimastreik\" OR \"Klimaregierung\" until:2021-9-26 since:2020-9-26\n",
      "from:ABaerbockArchiv\"Klimawandel\" OR \"Klimawandel\" OR \"Emissionen\" OR \"Die globale Erwärmung\" OR \"Klimanotstands\" OR \"Pariser Abkommen\" OR \"Treibhausgase\" OR \"renewables\" OR \"Klimastreik\" OR \"Klimaregierung\" until:2021-9-26 since:2020-9-26\n",
      "from:Die_Gruenen\"Klimawandel\" OR \"Klimawandel\" OR \"Emissionen\" OR \"Die globale Erwärmung\" OR \"Klimanotstands\" OR \"Pariser Abkommen\" OR \"Treibhausgase\" OR \"renewables\" OR \"Klimastreik\" OR \"Klimaregierung\" until:2021-9-26 since:2020-9-26\n",
      "from:ArminLaschet\"Klimawandel\" OR \"Klimawandel\" OR \"Emissionen\" OR \"Die globale Erwärmung\" OR \"Klimanotstands\" OR \"Pariser Abkommen\" OR \"Treibhausgase\" OR \"renewables\" OR \"Klimastreik\" OR \"Klimaregierung\" until:2021-9-26 since:2020-9-26\n",
      "from:cducsubt\"Klimawandel\" OR \"Klimawandel\" OR \"Emissionen\" OR \"Die globale Erwärmung\" OR \"Klimanotstands\" OR \"Pariser Abkommen\" OR \"Treibhausgase\" OR \"renewables\" OR \"Klimastreik\" OR \"Klimaregierung\" until:2021-9-26 since:2020-9-26\n",
      "from:fdp\"Klimawandel\" OR \"Klimawandel\" OR \"Emissionen\" OR \"Die globale Erwärmung\" OR \"Klimanotstands\" OR \"Pariser Abkommen\" OR \"Treibhausgase\" OR \"renewables\" OR \"Klimastreik\" OR \"Klimaregierung\" until:2021-9-26 since:2020-9-26\n",
      "from:AfDimBundestag\"Klimawandel\" OR \"Klimawandel\" OR \"Emissionen\" OR \"Die globale Erwärmung\" OR \"Klimanotstands\" OR \"Pariser Abkommen\" OR \"Treibhausgase\" OR \"renewables\" OR \"Klimastreik\" OR \"Klimaregierung\" until:2021-9-26 since:2020-9-26\n",
      "from:c_lindner\"Klimawandel\" OR \"Klimawandel\" OR \"Emissionen\" OR \"Die globale Erwärmung\" OR \"Klimanotstands\" OR \"Pariser Abkommen\" OR \"Treibhausgase\" OR \"renewables\" OR \"Klimastreik\" OR \"Klimaregierung\" until:2021-9-26 since:2020-9-26\n",
      "from:Alice_Weidel\"Klimawandel\" OR \"Klimawandel\" OR \"Emissionen\" OR \"Die globale Erwärmung\" OR \"Klimanotstands\" OR \"Pariser Abkommen\" OR \"Treibhausgase\" OR \"renewables\" OR \"Klimastreik\" OR \"Klimaregierung\" until:2021-9-26 since:2020-9-26\n"
     ]
    }
   ],
   "source": [
    "Sholz = politico('from:OlafScholz')\n",
    "SPD = politico('from:spdde')\n",
    "Verdina = politico('from:ABaerbockArchiv')\n",
    "verdi = politico('from:Die_Gruenen')\n",
    "Laschet = politico('from:ArminLaschet')\n",
    "CDUCSU = politico('from:cducsubt')\n",
    "FDP = politico('from:fdp')\n",
    "AfD = politico('from:AfDimBundestag')\n",
    "Lindner = politico('from:c_lindner')\n",
    "Weidel = politico('from:Alice_Weidel')"
   ]
  },
  {
   "cell_type": "code",
   "execution_count": 7,
   "metadata": {},
   "outputs": [],
   "source": [
    "def somma(a , b) : \n",
    "    c = []\n",
    "    for i in range(len(a)) : \n",
    "        c.append(a[i] + b[i])\n",
    "\n",
    "    c[0] = c[2]/c[1]\n",
    "    return c"
   ]
  },
  {
   "cell_type": "code",
   "execution_count": 8,
   "metadata": {},
   "outputs": [
    {
     "name": "stderr",
     "output_type": "stream",
     "text": [
      "/tmp/ipykernel_77037/400153262.py:12: SettingWithCopyWarning: \n",
      "A value is trying to be set on a copy of a slice from a DataFrame\n",
      "\n",
      "See the caveats in the documentation: https://pandas.pydata.org/pandas-docs/stable/user_guide/indexing.html#returning-a-view-versus-a-copy\n",
      "  Dati.Tweet_p[i] = '{:1.2f}'.format(Dati.Tweet_p[i])\n"
     ]
    },
    {
     "data": {
      "text/html": [
       "<div>\n",
       "<style scoped>\n",
       "    .dataframe tbody tr th:only-of-type {\n",
       "        vertical-align: middle;\n",
       "    }\n",
       "\n",
       "    .dataframe tbody tr th {\n",
       "        vertical-align: top;\n",
       "    }\n",
       "\n",
       "    .dataframe thead th {\n",
       "        text-align: right;\n",
       "    }\n",
       "</style>\n",
       "<table border=\"1\" class=\"dataframe\">\n",
       "  <thead>\n",
       "    <tr style=\"text-align: right;\">\n",
       "      <th></th>\n",
       "      <th>Partiti</th>\n",
       "      <th>Tweet</th>\n",
       "      <th>Risultati</th>\n",
       "      <th>Colori</th>\n",
       "      <th>Tweet_p</th>\n",
       "    </tr>\n",
       "  </thead>\n",
       "  <tbody>\n",
       "    <tr>\n",
       "      <th>0</th>\n",
       "      <td>AfD</td>\n",
       "      <td>[0.0020026702269692926, 1498, 3]</td>\n",
       "      <td>10.81</td>\n",
       "      <td>lightblue</td>\n",
       "      <td>0.10</td>\n",
       "    </tr>\n",
       "    <tr>\n",
       "      <th>1</th>\n",
       "      <td>CDU/CSU</td>\n",
       "      <td>[0.0061562139284340135, 2599, 16]</td>\n",
       "      <td>24.10</td>\n",
       "      <td>black</td>\n",
       "      <td>0.31</td>\n",
       "    </tr>\n",
       "    <tr>\n",
       "      <th>2</th>\n",
       "      <td>FDP</td>\n",
       "      <td>[0.006531204644412192, 1378, 9]</td>\n",
       "      <td>11.97</td>\n",
       "      <td>yellow</td>\n",
       "      <td>0.33</td>\n",
       "    </tr>\n",
       "    <tr>\n",
       "      <th>3</th>\n",
       "      <td>SPD</td>\n",
       "      <td>[0.009607233681831025, 3539, 34]</td>\n",
       "      <td>25.70</td>\n",
       "      <td>red</td>\n",
       "      <td>0.48</td>\n",
       "    </tr>\n",
       "    <tr>\n",
       "      <th>4</th>\n",
       "      <td>Verdi</td>\n",
       "      <td>[0.0218209179834462, 1329, 29]</td>\n",
       "      <td>14.80</td>\n",
       "      <td>green</td>\n",
       "      <td>1.09</td>\n",
       "    </tr>\n",
       "  </tbody>\n",
       "</table>\n",
       "</div>"
      ],
      "text/plain": [
       "   Partiti                              Tweet  Risultati     Colori Tweet_p\n",
       "0      AfD   [0.0020026702269692926, 1498, 3]      10.81  lightblue    0.10\n",
       "1  CDU/CSU  [0.0061562139284340135, 2599, 16]      24.10      black    0.31\n",
       "2      FDP    [0.006531204644412192, 1378, 9]      11.97     yellow    0.33\n",
       "3      SPD   [0.009607233681831025, 3539, 34]      25.70        red    0.48\n",
       "4    Verdi     [0.0218209179834462, 1329, 29]      14.80      green    1.09"
      ]
     },
     "execution_count": 8,
     "metadata": {},
     "output_type": "execute_result"
    }
   ],
   "source": [
    "risultati = [25.7 , 24.1, 14.8, 11.97 , 10.81 ]\n",
    "partiti = ['SPD' , 'CDU/CSU' , 'Verdi' , 'FDP' , 'AfD']\n",
    "tweet = [somma(Sholz , SPD) , somma(CDUCSU , Laschet) , somma(verdi , Verdina) , somma(Lindner , FDP) , somma(AfD , Weidel)]\n",
    "tweet_p = [somma(Sholz , SPD)[0] , somma(CDUCSU , Laschet)[0] , somma(verdi , Verdina)[0] , somma(Lindner , FDP)[0] , somma(AfD , Weidel)[0]]\n",
    "colori = ['red' , 'black' , 'green' , 'yellow' , 'lightblue' ]\n",
    "\n",
    "dati = {'Partiti' : partiti , 'Tweet' : tweet , 'Risultati' : risultati , 'Colori' : colori , 'Tweet_p' : tweet_p}\n",
    "Dati = pd.DataFrame(dati)\n",
    "Dati.Tweet_p = (Dati.Tweet_p*50)\n",
    "Dati.sort_values(by = 'Tweet_p' , inplace = True , ignore_index = True)\n",
    "for i in range(len(Dati.Tweet)) :\n",
    "    Dati.Tweet_p[i] = '{:1.2f}'.format(Dati.Tweet_p[i])\n",
    "Dati"
   ]
  },
  {
   "cell_type": "code",
   "execution_count": 9,
   "metadata": {},
   "outputs": [
    {
     "data": {
      "image/png": "[encoded data removed]",
      "text/plain": [
       "<Figure size 640x480 with 1 Axes>"
      ]
     },
     "metadata": {},
     "output_type": "display_data"
    }
   ],
   "source": [
    "ax = Dati.plot.bar(x = 'Tweet_p' , y = 'Risultati'  , color= Dati['Colori'].array , legend = False , \n",
    "xlabel = 'Tweet on global warming (%)' , ylabel = 'Election results (%)' , title = \"German election 2021\")\n",
    "\n",
    "counter = 0\n",
    "for patch in ax.patches :\n",
    "    bl = patch.get_xy()\n",
    "    x = 0.5 * patch.get_width() + bl[0] \n",
    "    y = patch.get_height() + bl[1] +0.2\n",
    "    ax.text(x,y,(Dati.Partiti[counter]),\n",
    "            ha='center', rotation='horizontal')\n",
    "    counter = counter +1"
   ]
  },
  {
   "cell_type": "code",
   "execution_count": 11,
   "metadata": {},
   "outputs": [],
   "source": [
    "Dati.to_csv('Elezioni2021.csv' , index = False)"
   ]
  }
 ],
 "metadata": {
  "kernelspec": {
   "display_name": "Python 3",
   "language": "python",
   "name": "python3"
  },
  "language_info": {
   "codemirror_mode": {
    "name": "ipython",
    "version": 3
   },
   "file_extension": ".py",
   "mimetype": "text/x-python",
   "name": "python",
   "nbconvert_exporter": "python",
   "pygments_lexer": "ipython3",
   "version": "3.8.10"
  },
  "orig_nbformat": 4
 },
 "nbformat": 4,
 "nbformat_minor": 2
}
