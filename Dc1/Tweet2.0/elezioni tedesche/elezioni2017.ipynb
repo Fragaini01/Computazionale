{
 "cells": [
  {
   "cell_type": "code",
   "execution_count": 5,
   "metadata": {},
   "outputs": [],
   "source": [
    "import snscrape\n",
    "import snscrape.modules.twitter as sn\n",
    "import numpy as np\n",
    "import pandas as pd\n",
    "from matplotlib import pyplot as plt"
   ]
  },
  {
   "cell_type": "code",
   "execution_count": 6,
   "metadata": {},
   "outputs": [],
   "source": [
    "def politico(nome) : \n",
    "    #Definizione ricerca\n",
    "    dizionario = [' \"Klimawandel\"' , '\"Emissionen\"' , '\"Die globale Erwärmung\"' ,\n",
    " '\"Klimanotstands\"' ,'\"Pariser Abkommen\"' , '\"Treibhausgase\"' , '\"renewables\"' , '\"Klimastreik\"' , '\"Klimaregierung\"']\n",
    "    claim = nome  + dizionario[0]\n",
    "    for i in dizionario :\n",
    "        claim = claim  + ' OR ' + i \n",
    "    claim = claim  + ' until:2017-9-24 since:2016-9-24'\n",
    "    print(claim)\n",
    "\n",
    "    #ricerca e conto\n",
    "    scrape = sn.TwitterSearchScraper(claim)\n",
    "    counter = 0\n",
    "    for i in scrape.get_items() :\n",
    "        counter = counter +1\n",
    "        \n",
    "    #conto totale    \n",
    "    claim = nome + ' until:2017-9-24 since:2016-9-24'\n",
    "    scrape = sn.TwitterSearchScraper(claim)\n",
    "    counter_tot = 0\n",
    "    for i in scrape.get_items() :\n",
    "        counter_tot = counter_tot +1\n",
    "\n",
    "    if(counter_tot  == 0) : print('Errore')\n",
    "\n",
    "    return counter/counter_tot , counter_tot , counter"
   ]
  },
  {
   "cell_type": "code",
   "execution_count": 7,
   "metadata": {},
   "outputs": [
    {
     "name": "stdout",
     "output_type": "stream",
     "text": [
      "from:OlafScholz \"Klimawandel\" OR  \"Klimawandel\" OR \"Emissionen\" OR \"Die globale Erwärmung\" OR \"Klimanotstands\" OR \"Pariser Abkommen\" OR \"Treibhausgase\" OR \"renewables\" OR \"Klimastreik\" OR \"Klimaregierung\" until:2017-9-24 since:2016-9-24\n",
      "from:spdde \"Klimawandel\" OR  \"Klimawandel\" OR \"Emissionen\" OR \"Die globale Erwärmung\" OR \"Klimanotstands\" OR \"Pariser Abkommen\" OR \"Treibhausgase\" OR \"renewables\" OR \"Klimastreik\" OR \"Klimaregierung\" until:2017-9-24 since:2016-9-24\n",
      "from:ABaerbockArchiv \"Klimawandel\" OR  \"Klimawandel\" OR \"Emissionen\" OR \"Die globale Erwärmung\" OR \"Klimanotstands\" OR \"Pariser Abkommen\" OR \"Treibhausgase\" OR \"renewables\" OR \"Klimastreik\" OR \"Klimaregierung\" until:2017-9-24 since:2016-9-24\n",
      "from:Die_Gruenen \"Klimawandel\" OR  \"Klimawandel\" OR \"Emissionen\" OR \"Die globale Erwärmung\" OR \"Klimanotstands\" OR \"Pariser Abkommen\" OR \"Treibhausgase\" OR \"renewables\" OR \"Klimastreik\" OR \"Klimaregierung\" until:2017-9-24 since:2016-9-24\n",
      "from:ArminLaschet \"Klimawandel\" OR  \"Klimawandel\" OR \"Emissionen\" OR \"Die globale Erwärmung\" OR \"Klimanotstands\" OR \"Pariser Abkommen\" OR \"Treibhausgase\" OR \"renewables\" OR \"Klimastreik\" OR \"Klimaregierung\" until:2017-9-24 since:2016-9-24\n",
      "from:cducsubt \"Klimawandel\" OR  \"Klimawandel\" OR \"Emissionen\" OR \"Die globale Erwärmung\" OR \"Klimanotstands\" OR \"Pariser Abkommen\" OR \"Treibhausgase\" OR \"renewables\" OR \"Klimastreik\" OR \"Klimaregierung\" until:2017-9-24 since:2016-9-24\n",
      "from:Alice_Weidel \"Klimawandel\" OR  \"Klimawandel\" OR \"Emissionen\" OR \"Die globale Erwärmung\" OR \"Klimanotstands\" OR \"Pariser Abkommen\" OR \"Treibhausgase\" OR \"renewables\" OR \"Klimastreik\" OR \"Klimaregierung\" until:2017-9-24 since:2016-9-24\n",
      "from:fdp \"Klimawandel\" OR  \"Klimawandel\" OR \"Emissionen\" OR \"Die globale Erwärmung\" OR \"Klimanotstands\" OR \"Pariser Abkommen\" OR \"Treibhausgase\" OR \"renewables\" OR \"Klimastreik\" OR \"Klimaregierung\" until:2017-9-24 since:2016-9-24\n",
      "from:c_lindner \"Klimawandel\" OR  \"Klimawandel\" OR \"Emissionen\" OR \"Die globale Erwärmung\" OR \"Klimanotstands\" OR \"Pariser Abkommen\" OR \"Treibhausgase\" OR \"renewables\" OR \"Klimastreik\" OR \"Klimaregierung\" until:2017-9-24 since:2016-9-24\n",
      "from:dieLinke \"Klimawandel\" OR  \"Klimawandel\" OR \"Emissionen\" OR \"Die globale Erwärmung\" OR \"Klimanotstands\" OR \"Pariser Abkommen\" OR \"Treibhausgase\" OR \"renewables\" OR \"Klimastreik\" OR \"Klimaregierung\" until:2017-9-24 since:2016-9-24\n",
      "from:DietmarBartsch \"Klimawandel\" OR  \"Klimawandel\" OR \"Emissionen\" OR \"Die globale Erwärmung\" OR \"Klimanotstands\" OR \"Pariser Abkommen\" OR \"Treibhausgase\" OR \"renewables\" OR \"Klimastreik\" OR \"Klimaregierung\" until:2017-9-24 since:2016-9-24\n"
     ]
    }
   ],
   "source": [
    "Sholz = politico('from:OlafScholz')\n",
    "SPD = politico('from:spdde')\n",
    "\n",
    "Verdina = politico('from:ABaerbockArchiv')\n",
    "verdi = politico('from:Die_Gruenen')\n",
    "\n",
    "Laschet = politico('from:ArminLaschet')\n",
    "CDUCSU = politico('from:cducsubt')\n",
    "\n",
    "Weidel = politico('from:Alice_Weidel')\n",
    "\n",
    "FDP = politico('from:fdp')\n",
    "Lindner = politico('from:c_lindner')\n",
    "\n",
    "DIE = politico('from:dieLinke')\n",
    "Bartsch = politico('from:DietmarBartsch')"
   ]
  },
  {
   "cell_type": "code",
   "execution_count": 8,
   "metadata": {},
   "outputs": [],
   "source": [
    "def somma(a , b) : \n",
    "    c = []\n",
    "    for i in range(len(a)) : \n",
    "        c.append(a[i] + b[i])\n",
    "\n",
    "    c[0] = c[2]/c[1]\n",
    "    return c"
   ]
  },
  {
   "cell_type": "code",
   "execution_count": 9,
   "metadata": {},
   "outputs": [
    {
     "name": "stderr",
     "output_type": "stream",
     "text": [
      "/tmp/ipykernel_76935/2514385697.py:10: SettingWithCopyWarning: \n",
      "A value is trying to be set on a copy of a slice from a DataFrame\n",
      "\n",
      "See the caveats in the documentation: https://pandas.pydata.org/pandas-docs/stable/user_guide/indexing.html#returning-a-view-versus-a-copy\n",
      "  Dati.Tweet_p[4] = Dati.Tweet_p[4]*2\n",
      "/tmp/ipykernel_76935/2514385697.py:13: SettingWithCopyWarning: \n",
      "A value is trying to be set on a copy of a slice from a DataFrame\n",
      "\n",
      "See the caveats in the documentation: https://pandas.pydata.org/pandas-docs/stable/user_guide/indexing.html#returning-a-view-versus-a-copy\n",
      "  Dati.Tweet_p[i] = '{:1.2f}'.format(Dati.Tweet_p[i])\n"
     ]
    }
   ],
   "source": [
    "risultati = [20.5 , 32.9, 8.9, 10.7 , 12.6 , 9.2 ]\n",
    "partiti = ['SPD' , 'CDU/CSU' , 'Verdi' , 'FDP' , 'AfD' , 'Linke']\n",
    "tweet = [somma(Sholz , SPD) , somma(CDUCSU , Laschet) , somma(verdi , Verdina) , somma(Lindner , FDP) , Weidel , somma(DIE , Bartsch)]\n",
    "tweet_p = [somma(Sholz , SPD)[0] , somma(CDUCSU , Laschet)[0] , somma(verdi , Verdina)[0] , somma(Lindner , FDP)[0] ,  Weidel[0] , somma(DIE , Bartsch)[0]]\n",
    "colori = ['red' , 'black' , 'green' , 'yellow' , 'lightblue' , 'purple']\n",
    "\n",
    "dati = {'Partiti' : partiti , 'Tweet' : tweet , 'Risultati' : risultati , 'Colori' : colori , 'Tweet_p' : tweet_p}\n",
    "Dati = pd.DataFrame(dati)\n",
    "Dati.Tweet_p = (Dati.Tweet_p*50)\n",
    "Dati.Tweet_p[4] = Dati.Tweet_p[4]*2\n",
    "Dati.sort_values(by = 'Tweet_p' , inplace = True , ignore_index = True)\n",
    "for i in range(len(Dati.Tweet)) :\n",
    "    Dati.Tweet_p[i] = '{:1.2f}'.format(Dati.Tweet_p[i])"
   ]
  },
  {
   "cell_type": "code",
   "execution_count": 10,
   "metadata": {},
   "outputs": [
    {
     "data": {
      "image/png": "[encoded data removed]",
      "text/plain": [
       "<Figure size 640x480 with 1 Axes>"
      ]
     },
     "metadata": {},
     "output_type": "display_data"
    }
   ],
   "source": [
    "ax = Dati.plot.bar(x = 'Tweet_p' , y = 'Risultati'  , color= Dati['Colori'].array , legend = False , \n",
    "xlabel = 'Tweet on global warming (%)' , ylabel = 'Election results (%)' , title = \"German election 2017\")\n",
    "\n",
    "counter = 0\n",
    "for patch in ax.patches :\n",
    "    bl = patch.get_xy()\n",
    "    x = 0.5 * patch.get_width() + bl[0] \n",
    "    y = patch.get_height() + bl[1] +0.2\n",
    "    ax.text(x,y,(Dati.Partiti[counter]),\n",
    "            ha='center', rotation='horizontal')\n",
    "    counter = counter +1"
   ]
  },
  {
   "cell_type": "code",
   "execution_count": 12,
   "metadata": {},
   "outputs": [],
   "source": [
    "Dati.to_csv('Elezioni2017.csv' , index = False)"
   ]
  }
 ],
 "metadata": {
  "kernelspec": {
   "display_name": "Python 3",
   "language": "python",
   "name": "python3"
  },
  "language_info": {
   "codemirror_mode": {
    "name": "ipython",
    "version": 3
   },
   "file_extension": ".py",
   "mimetype": "text/x-python",
   "name": "python",
   "nbconvert_exporter": "python",
   "pygments_lexer": "ipython3",
   "version": "3.8.10"
  },
  "orig_nbformat": 4
 },
 "nbformat": 4,
 "nbformat_minor": 2
}
