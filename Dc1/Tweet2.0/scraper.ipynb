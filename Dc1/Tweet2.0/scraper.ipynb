{
 "cells": [
  {
   "cell_type": "code",
   "execution_count": 3,
   "metadata": {},
   "outputs": [],
   "source": [
    "import snscrape\n",
    "import snscrape.modules.twitter as sn\n",
    "import numpy as np\n",
    "import pandas as pd\n",
    "from matplotlib import pyplot as plt"
   ]
  },
  {
   "cell_type": "code",
   "execution_count": 4,
   "metadata": {},
   "outputs": [
    {
     "name": "stdout",
     "output_type": "stream",
     "text": [
      "\"Changement climatique\" OR \"Changement climatique\" OR \"Émissions\" OR \"Réchauffement climatique\" OR \"Urgence climatique\" OR \"Accords de Paris\" OR \"Gaz à effet de serre\" OR \"Accords de Paris\" OR \"Renouvelables\" OR \"Grève climatique\" OR \"Gouvernement climatique\" until:2022-12-31 since:2012-01-01 min_faves:100\n"
     ]
    }
   ],
   "source": [
    "#Definizione ricerca\n",
    "dizionario = ['\"Changement climatique\"' , '\"Émissions\"' , '\"Réchauffement climatique\"' ,\n",
    "'\"Urgence climatique\"' ,'\"Accords de Paris\"' , '\"Gaz à effet de serre\"' ,'\"Accords de Paris\"', '\"Renouvelables\"' , \n",
    "'\"Grève climatique\"' , '\"Gouvernement climatique\"']\n",
    "claim = dizionario[0]\n",
    "for i in dizionario :\n",
    "    claim = claim  + ' OR ' + i \n",
    "claim = claim  + ' until:2022-12-31 since:2017-01-01 min_faves:100'\n",
    "print(claim)\n",
    "#ricerca e conto\n",
    "scrape = sn.TwitterSearchScraper(claim)\n",
    "\n",
    "dati = []\n",
    "counter = 0\n",
    "for i in scrape.get_items() :\n",
    "    counter = counter +1\n",
    "    dati.append(i)\n",
    "date    = []\n",
    "url     = []\n",
    "raw     = []\n",
    "user    = []\n",
    "links   = []\n",
    "reply   = []\n",
    "like    = []\n",
    "quote   = []\n",
    "retweet = []\n",
    "for i in dati :\n",
    "    date   .append(i.date)\n",
    "    url    .append(i.url)\n",
    "    raw    .append(i.rawContent)\n",
    "    user   .append(i.user)\n",
    "    links  .append(i.links)\n",
    "    reply  .append(i.replyCount)\n",
    "    like   .append(i.likeCount)\n",
    "    quote  .append(i.quoteCount)\n",
    "    retweet.append(i.retweetCount)\n",
    "totale = {'Data' : date , 'url' : url , 'raw' : raw , 'utente' : user , 'links' : links , 'risposte' : reply , 'like' : like , 'quote' : quote , 'retweet' : retweet}\n",
    "Repubblica = pd.DataFrame(totale)"
   ]
  },
  {
   "cell_type": "code",
   "execution_count": 5,
   "metadata": {},
   "outputs": [
    {
     "data": {
      "text/plain": [
       "(array([   13.,    65.,   199.,   403.,  1268.,  3394.,  8688.,  7588.,\n",
       "        11900., 12610.]),\n",
       " array([15746.2412963 , 16107.31493981, 16468.38858333, 16829.46222685,\n",
       "        17190.53587037, 17551.60951389, 17912.68315741, 18273.75680093,\n",
       "        18634.83044444, 18995.90408796, 19356.97773148]),\n",
       " <BarContainer object of 10 artists>)"
      ]
     },
     "execution_count": 5,
     "metadata": {},
     "output_type": "execute_result"
    },
    {
     "data": {
      "image/png": "[encoded data removed]",
      "text/plain": [
       "<Figure size 640x480 with 1 Axes>"
      ]
     },
     "metadata": {},
     "output_type": "display_data"
    }
   ],
   "source": [
    "plt.hist(Repubblica.Data)"
   ]
  },
  {
   "cell_type": "code",
   "execution_count": 6,
   "metadata": {},
   "outputs": [],
   "source": [
    "Repubblica.to_csv('Totali_Riscaldamento_Globale_Fra.csv' , index = False)"
   ]
  }
 ],
 "metadata": {
  "kernelspec": {
   "display_name": "Python 3",
   "language": "python",
   "name": "python3"
  },
  "language_info": {
   "codemirror_mode": {
    "name": "ipython",
    "version": 3
   },
   "file_extension": ".py",
   "mimetype": "text/x-python",
   "name": "python",
   "nbconvert_exporter": "python",
   "pygments_lexer": "ipython3",
   "version": "3.8.10"
  },
  "orig_nbformat": 4
 },
 "nbformat": 4,
 "nbformat_minor": 2
}
