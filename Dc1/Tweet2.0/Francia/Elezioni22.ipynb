{
 "cells": [
  {
   "cell_type": "code",
   "execution_count": 1,
   "metadata": {},
   "outputs": [],
   "source": [
    "import snscrape\n",
    "import snscrape.modules.twitter as sn\n",
    "import numpy as np\n",
    "import pandas as pd\n",
    "from matplotlib import pyplot as plt"
   ]
  },
  {
   "cell_type": "code",
   "execution_count": 2,
   "metadata": {},
   "outputs": [],
   "source": [
    "def politico(nome) : \n",
    "    #Definizione ricerca\n",
    "    dizionario = ['\"Changement climatique\"' , '\"Émissions\"' , '\"Réchauffement climatique\"' ,\n",
    "    '\"Urgence climatique\"' ,'\"Accords de Paris\"' , '\"Gaz à effet de serre\"' ,'\"Accords de Paris\"', '\"Renouvelables\"' , \n",
    "    '\"Grève climatique\"' , '\"Gouvernement climatique\"']\n",
    "    claim = nome  + dizionario[0]\n",
    "    for i in dizionario :\n",
    "        claim = claim  + ' OR ' + i \n",
    "    claim = claim  + ' until:2022-6-19 since:2021-6-19'\n",
    "    print(claim)\n",
    "\n",
    "    #ricerca e conto\n",
    "    scrape = sn.TwitterSearchScraper(claim)\n",
    "    counter = 0\n",
    "    for i in scrape.get_items() :\n",
    "        counter = counter +1\n",
    "        \n",
    "    #conto totale    \n",
    "    claim = nome + ' until:2022-6-19 since:2021-6-19'\n",
    "    scrape = sn.TwitterSearchScraper(claim)\n",
    "    counter_tot = 0\n",
    "    for i in scrape.get_items() :\n",
    "        counter_tot = counter_tot +1\n",
    "\n",
    "    if(counter_tot  == 0) : print('Errore')\n",
    "\n",
    "    return counter/counter_tot , counter_tot , counter"
   ]
  },
  {
   "cell_type": "code",
   "execution_count": 3,
   "metadata": {},
   "outputs": [
    {
     "name": "stdout",
     "output_type": "stream",
     "text": [
      "from:Renaissance\"Changement climatique\" OR \"Changement climatique\" OR \"Émissions\" OR \"Réchauffement climatique\" OR \"Urgence climatique\" OR \"Accords de Paris\" OR \"Gaz à effet de serre\" OR \"Accords de Paris\" OR \"Renouvelables\" OR \"Grève climatique\" OR \"Gouvernement climatique\" until:2022-6-19 since:2021-6-19\n",
      "from:EmmanuelMacron\"Changement climatique\" OR \"Changement climatique\" OR \"Émissions\" OR \"Réchauffement climatique\" OR \"Urgence climatique\" OR \"Accords de Paris\" OR \"Gaz à effet de serre\" OR \"Accords de Paris\" OR \"Renouvelables\" OR \"Grève climatique\" OR \"Gouvernement climatique\" until:2022-6-19 since:2021-6-19\n"
     ]
    }
   ],
   "source": [
    "Renaissance = politico('from:Renaissance')\n",
    "Macron = politico('from:EmmanuelMacron')"
   ]
  },
  {
   "cell_type": "code",
   "execution_count": 6,
   "metadata": {},
   "outputs": [
    {
     "name": "stdout",
     "output_type": "stream",
     "text": [
      "from:JLMelenchon\"Changement climatique\" OR \"Changement climatique\" OR \"Émissions\" OR \"Réchauffement climatique\" OR \"Urgence climatique\" OR \"Accords de Paris\" OR \"Gaz à effet de serre\" OR \"Accords de Paris\" OR \"Renouvelables\" OR \"Grève climatique\" OR \"Gouvernement climatique\" until:2022-6-19 since:2021-6-19\n",
      "from:FiAssemblee\"Changement climatique\" OR \"Changement climatique\" OR \"Émissions\" OR \"Réchauffement climatique\" OR \"Urgence climatique\" OR \"Accords de Paris\" OR \"Gaz à effet de serre\" OR \"Accords de Paris\" OR \"Renouvelables\" OR \"Grève climatique\" OR \"Gouvernement climatique\" until:2022-6-19 since:2021-6-19\n"
     ]
    }
   ],
   "source": [
    "Melenchon = politico('from:JLMelenchon')\n",
    "NUPES = politico('from:FiAssemblee')"
   ]
  },
  {
   "cell_type": "code",
   "execution_count": 7,
   "metadata": {},
   "outputs": [
    {
     "name": "stdout",
     "output_type": "stream",
     "text": [
      "from:RNational_off\"Changement climatique\" OR \"Changement climatique\" OR \"Émissions\" OR \"Réchauffement climatique\" OR \"Urgence climatique\" OR \"Accords de Paris\" OR \"Gaz à effet de serre\" OR \"Accords de Paris\" OR \"Renouvelables\" OR \"Grève climatique\" OR \"Gouvernement climatique\" until:2022-6-19 since:2021-6-19\n",
      "from:MLP_officiel\"Changement climatique\" OR \"Changement climatique\" OR \"Émissions\" OR \"Réchauffement climatique\" OR \"Urgence climatique\" OR \"Accords de Paris\" OR \"Gaz à effet de serre\" OR \"Accords de Paris\" OR \"Renouvelables\" OR \"Grève climatique\" OR \"Gouvernement climatique\" until:2022-6-19 since:2021-6-19\n"
     ]
    }
   ],
   "source": [
    "Rassemblement = politico('from:RNational_off')\n",
    "LePen = politico('from:MLP_officiel')"
   ]
  },
  {
   "cell_type": "code",
   "execution_count": 8,
   "metadata": {},
   "outputs": [
    {
     "name": "stdout",
     "output_type": "stream",
     "text": [
      "from:ECiotti\"Changement climatique\" OR \"Changement climatique\" OR \"Émissions\" OR \"Réchauffement climatique\" OR \"Urgence climatique\" OR \"Accords de Paris\" OR \"Gaz à effet de serre\" OR \"Accords de Paris\" OR \"Renouvelables\" OR \"Grève climatique\" OR \"Gouvernement climatique\" until:2022-6-19 since:2021-6-19\n",
      "from:lesRepublicains\"Changement climatique\" OR \"Changement climatique\" OR \"Émissions\" OR \"Réchauffement climatique\" OR \"Urgence climatique\" OR \"Accords de Paris\" OR \"Gaz à effet de serre\" OR \"Accords de Paris\" OR \"Renouvelables\" OR \"Grève climatique\" OR \"Gouvernement climatique\" until:2022-6-19 since:2021-6-19\n"
     ]
    }
   ],
   "source": [
    "Ciotti = politico('from:ECiotti')\n",
    "Repubblicani = politico('from:lesRepublicains')"
   ]
  },
  {
   "cell_type": "code",
   "execution_count": 9,
   "metadata": {},
   "outputs": [],
   "source": [
    "def somma(a , b) : \n",
    "    c = []\n",
    "    for i in range(len(a)) : \n",
    "        c.append(a[i] + b[i])\n",
    "\n",
    "    c[0] = c[2]/c[1]\n",
    "    return c"
   ]
  },
  {
   "cell_type": "code",
   "execution_count": 22,
   "metadata": {},
   "outputs": [
    {
     "name": "stderr",
     "output_type": "stream",
     "text": [
      "/tmp/ipykernel_12388/2166414766.py:20: SettingWithCopyWarning: \n",
      "A value is trying to be set on a copy of a slice from a DataFrame\n",
      "\n",
      "See the caveats in the documentation: https://pandas.pydata.org/pandas-docs/stable/user_guide/indexing.html#returning-a-view-versus-a-copy\n",
      "  Dati.Tweet_p[i] = '{:1.3f}'.format(Dati.Tweet_p[i])\n"
     ]
    },
    {
     "data": {
      "text/html": [
       "<div>\n",
       "<style scoped>\n",
       "    .dataframe tbody tr th:only-of-type {\n",
       "        vertical-align: middle;\n",
       "    }\n",
       "\n",
       "    .dataframe tbody tr th {\n",
       "        vertical-align: top;\n",
       "    }\n",
       "\n",
       "    .dataframe thead th {\n",
       "        text-align: right;\n",
       "    }\n",
       "</style>\n",
       "<table border=\"1\" class=\"dataframe\">\n",
       "  <thead>\n",
       "    <tr style=\"text-align: right;\">\n",
       "      <th></th>\n",
       "      <th>Partiti</th>\n",
       "      <th>Tweet</th>\n",
       "      <th>Risultati</th>\n",
       "      <th>Colori</th>\n",
       "      <th>Tweet_p</th>\n",
       "      <th>Risultati_U25</th>\n",
       "      <th>25-34</th>\n",
       "      <th>Risultati_U35</th>\n",
       "    </tr>\n",
       "  </thead>\n",
       "  <tbody>\n",
       "    <tr>\n",
       "      <th>0</th>\n",
       "      <td>RN</td>\n",
       "      <td>[0.0018874399450926561, 5828, 11]</td>\n",
       "      <td>18.9</td>\n",
       "      <td>blue</td>\n",
       "      <td>0.094</td>\n",
       "      <td>18.0</td>\n",
       "      <td>18</td>\n",
       "      <td>18.000000</td>\n",
       "    </tr>\n",
       "    <tr>\n",
       "      <th>1</th>\n",
       "      <td>LR</td>\n",
       "      <td>[0.0028052805280528053, 6060, 17]</td>\n",
       "      <td>13.7</td>\n",
       "      <td>lightblue</td>\n",
       "      <td>0.140</td>\n",
       "      <td>10.0</td>\n",
       "      <td>6</td>\n",
       "      <td>7.717241</td>\n",
       "    </tr>\n",
       "    <tr>\n",
       "      <th>2</th>\n",
       "      <td>ENS</td>\n",
       "      <td>[0.013105413105413105, 1755, 23]</td>\n",
       "      <td>25.2</td>\n",
       "      <td>yellow</td>\n",
       "      <td>0.655</td>\n",
       "      <td>13.0</td>\n",
       "      <td>19</td>\n",
       "      <td>16.424138</td>\n",
       "    </tr>\n",
       "    <tr>\n",
       "      <th>3</th>\n",
       "      <td>NUP</td>\n",
       "      <td>[0.013215859030837005, 6129, 81]</td>\n",
       "      <td>25.2</td>\n",
       "      <td>red</td>\n",
       "      <td>0.661</td>\n",
       "      <td>42.0</td>\n",
       "      <td>38</td>\n",
       "      <td>39.717241</td>\n",
       "    </tr>\n",
       "  </tbody>\n",
       "</table>\n",
       "</div>"
      ],
      "text/plain": [
       "  Partiti                              Tweet  Risultati     Colori Tweet_p  \\\n",
       "0      RN  [0.0018874399450926561, 5828, 11]       18.9       blue   0.094   \n",
       "1      LR  [0.0028052805280528053, 6060, 17]       13.7  lightblue   0.140   \n",
       "2     ENS   [0.013105413105413105, 1755, 23]       25.2     yellow   0.655   \n",
       "3     NUP   [0.013215859030837005, 6129, 81]       25.2        red   0.661   \n",
       "\n",
       "   Risultati_U25  25-34  Risultati_U35  \n",
       "0           18.0     18      18.000000  \n",
       "1           10.0      6       7.717241  \n",
       "2           13.0     19      16.424138  \n",
       "3           42.0     38      39.717241  "
      ]
     },
     "execution_count": 22,
     "metadata": {},
     "output_type": "execute_result"
    }
   ],
   "source": [
    "#Fonte https://www.ipsos.com/sites/default/files/ct/news/documents/2022-06/Ipsos%20Sopra%20Steria_Sociologie%20des%20e%CC%81lectorats_12%20Juin%2020h24.pdf\n",
    "\n",
    "risultati = [25.2 , 25.2 , 18.9 , 13.7 ]\n",
    "risultati_U24 = [13. , 42. , 18. , 10]\n",
    "elettori_U24 = 2692374 * 0.31\n",
    "elettori2534 = 3825849 * 0.29\n",
    "risultati2534 = [19 , 38 , 18 , 6]\n",
    "partiti = ['ENS' , 'NUP' , 'RN' , 'LR' ]\n",
    "tweet = [somma(Macron , Renaissance) , somma(NUPES , Melenchon) , somma(LePen , Rassemblement) , somma(Ciotti , Repubblicani) ]\n",
    "tweet_p = [somma(Macron , Renaissance)[0] , somma(NUPES , Melenchon)[0] , somma(LePen , Rassemblement)[0] , somma(Ciotti , Repubblicani)[0] ]\n",
    "colori = ['yellow' , 'red' , 'blue' , 'lightblue']\n",
    "\n",
    "dati = {'Partiti' : partiti , 'Tweet' : tweet , 'Risultati' : risultati , 'Colori' : colori , 'Tweet_p' : tweet_p , \n",
    "'Risultati_U25' : risultati_U24 , '25-34' : risultati2534}\n",
    "Dati = pd.DataFrame(dati)\n",
    "Dati['Risultati_U35'] = (elettori_U24 * Dati.Risultati_U25 + elettori2534 * Dati['25-34']) / (elettori_U24 + elettori2534)\n",
    "Dati.Tweet_p = (Dati.Tweet_p*50)\n",
    "Dati.sort_values(by = 'Tweet_p' , inplace = True , ignore_index = True)\n",
    "for i in range(len(Dati.Tweet)) :\n",
    "    Dati.Tweet_p[i] = '{:1.3f}'.format(Dati.Tweet_p[i])\n",
    "Dati"
   ]
  },
  {
   "cell_type": "code",
   "execution_count": 23,
   "metadata": {},
   "outputs": [
    {
     "data": {
      "image/png": "[encoded data removed]",
      "text/plain": [
       "<Figure size 640x480 with 1 Axes>"
      ]
     },
     "metadata": {},
     "output_type": "display_data"
    }
   ],
   "source": [
    "ax = Dati.plot.bar(x = 'Tweet_p' , y = 'Risultati'  , color= Dati['Colori'].array , legend = False , \n",
    "xlabel = 'Tweet on global warming (%)' , ylabel = 'Results (%)' , title = \"French election 2022\")\n",
    "\n",
    "counter = 0\n",
    "for patch in ax.patches :\n",
    "    bl = patch.get_xy()\n",
    "    x = 0.5 * patch.get_width() + bl[0] \n",
    "    y = patch.get_height() + bl[1] +0.2\n",
    "    ax.text(x,y,(Dati.Partiti[counter]),\n",
    "            ha='center', rotation='horizontal')\n",
    "    counter = counter +1"
   ]
  },
  {
   "cell_type": "code",
   "execution_count": 21,
   "metadata": {},
   "outputs": [],
   "source": [
    "Dati.to_csv('Elezioni2022.csv' , index=False)"
   ]
  }
 ],
 "metadata": {
  "kernelspec": {
   "display_name": "Python 3",
   "language": "python",
   "name": "python3"
  },
  "language_info": {
   "codemirror_mode": {
    "name": "ipython",
    "version": 3
   },
   "file_extension": ".py",
   "mimetype": "text/x-python",
   "name": "python",
   "nbconvert_exporter": "python",
   "pygments_lexer": "ipython3",
   "version": "3.8.10"
  },
  "orig_nbformat": 4
 },
 "nbformat": 4,
 "nbformat_minor": 2
}
