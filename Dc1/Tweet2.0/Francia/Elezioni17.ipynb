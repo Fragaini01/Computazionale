{
 "cells": [
  {
   "cell_type": "code",
   "execution_count": 1,
   "metadata": {},
   "outputs": [],
   "source": [
    "import snscrape\n",
    "import snscrape.modules.twitter as sn\n",
    "import numpy as np\n",
    "import pandas as pd\n",
    "from matplotlib import pyplot as plt"
   ]
  },
  {
   "cell_type": "code",
   "execution_count": 3,
   "metadata": {},
   "outputs": [],
   "source": [
    "def politico(nome) : \n",
    "    #Definizione ricerca\n",
    "    dizionario = ['\"Changement climatique\"' , '\"Émissions\"' , '\"Réchauffement climatique\"' ,\n",
    "    '\"Urgence climatique\"' ,'\"Accords de Paris\"' , '\"Gaz à effet de serre\"' ,'\"Accords de Paris\"', '\"Renouvelables\"' , \n",
    "    '\"Grève climatique\"' , '\"Gouvernement climatique\"']\n",
    "    claim = nome  + dizionario[0]\n",
    "    for i in dizionario :\n",
    "        claim = claim  + ' OR ' + i \n",
    "    claim = claim  + ' until:2017-6-11 since:2016-6-11'\n",
    "    print(claim)\n",
    "\n",
    "    #ricerca e conto\n",
    "    scrape = sn.TwitterSearchScraper(claim)\n",
    "    counter = 0\n",
    "    for i in scrape.get_items() :\n",
    "        counter = counter +1\n",
    "        \n",
    "    #conto totale    \n",
    "    claim = nome + ' until:2017-6-11 since:2016-6-11'\n",
    "    scrape = sn.TwitterSearchScraper(claim)\n",
    "    counter_tot = 0\n",
    "    for i in scrape.get_items() :\n",
    "        counter_tot = counter_tot +1\n",
    "\n",
    "    if(counter_tot  == 0) : print('Errore')\n",
    "\n",
    "    return counter/counter_tot , counter_tot , counter"
   ]
  },
  {
   "cell_type": "code",
   "execution_count": 4,
   "metadata": {},
   "outputs": [
    {
     "name": "stdout",
     "output_type": "stream",
     "text": [
      "from:Renaissance\"Changement climatique\" OR \"Changement climatique\" OR \"Émissions\" OR \"Réchauffement climatique\" OR \"Urgence climatique\" OR \"Accords de Paris\" OR \"Gaz à effet de serre\" OR \"Accords de Paris\" OR \"Renouvelables\" OR \"Grève climatique\" OR \"Gouvernement climatique\" until:2017-6-11 since:2016-6-11\n",
      "from:EmmanuelMacron\"Changement climatique\" OR \"Changement climatique\" OR \"Émissions\" OR \"Réchauffement climatique\" OR \"Urgence climatique\" OR \"Accords de Paris\" OR \"Gaz à effet de serre\" OR \"Accords de Paris\" OR \"Renouvelables\" OR \"Grève climatique\" OR \"Gouvernement climatique\" until:2017-6-11 since:2016-6-11\n"
     ]
    }
   ],
   "source": [
    "Renaissance = politico('from:Renaissance')\n",
    "Macron = politico('from:EmmanuelMacron')"
   ]
  },
  {
   "cell_type": "code",
   "execution_count": 5,
   "metadata": {},
   "outputs": [
    {
     "name": "stdout",
     "output_type": "stream",
     "text": [
      "from:NicolasSarkozy\"Changement climatique\" OR \"Changement climatique\" OR \"Émissions\" OR \"Réchauffement climatique\" OR \"Urgence climatique\" OR \"Accords de Paris\" OR \"Gaz à effet de serre\" OR \"Accords de Paris\" OR \"Renouvelables\" OR \"Grève climatique\" OR \"Gouvernement climatique\" until:2017-6-11 since:2016-6-11\n",
      "from:lesRepublicains\"Changement climatique\" OR \"Changement climatique\" OR \"Émissions\" OR \"Réchauffement climatique\" OR \"Urgence climatique\" OR \"Accords de Paris\" OR \"Gaz à effet de serre\" OR \"Accords de Paris\" OR \"Renouvelables\" OR \"Grève climatique\" OR \"Gouvernement climatique\" until:2017-6-11 since:2016-6-11\n"
     ]
    }
   ],
   "source": [
    "Ciotti = politico('from:NicolasSarkozy')\n",
    "Repubblicani = politico('from:lesRepublicains')"
   ]
  },
  {
   "cell_type": "code",
   "execution_count": 6,
   "metadata": {},
   "outputs": [
    {
     "name": "stdout",
     "output_type": "stream",
     "text": [
      "from:RNational_off\"Changement climatique\" OR \"Changement climatique\" OR \"Émissions\" OR \"Réchauffement climatique\" OR \"Urgence climatique\" OR \"Accords de Paris\" OR \"Gaz à effet de serre\" OR \"Accords de Paris\" OR \"Renouvelables\" OR \"Grève climatique\" OR \"Gouvernement climatique\" until:2017-6-11 since:2016-6-11\n",
      "from:MLP_officiel\"Changement climatique\" OR \"Changement climatique\" OR \"Émissions\" OR \"Réchauffement climatique\" OR \"Urgence climatique\" OR \"Accords de Paris\" OR \"Gaz à effet de serre\" OR \"Accords de Paris\" OR \"Renouvelables\" OR \"Grève climatique\" OR \"Gouvernement climatique\" until:2017-6-11 since:2016-6-11\n"
     ]
    }
   ],
   "source": [
    "Rassemblement = politico('from:RNational_off')\n",
    "LePen = politico('from:MLP_officiel')"
   ]
  },
  {
   "cell_type": "code",
   "execution_count": 7,
   "metadata": {},
   "outputs": [
    {
     "name": "stdout",
     "output_type": "stream",
     "text": [
      "from:JLMelenchon\"Changement climatique\" OR \"Changement climatique\" OR \"Émissions\" OR \"Réchauffement climatique\" OR \"Urgence climatique\" OR \"Accords de Paris\" OR \"Gaz à effet de serre\" OR \"Accords de Paris\" OR \"Renouvelables\" OR \"Grève climatique\" OR \"Gouvernement climatique\" until:2017-6-11 since:2016-6-11\n",
      "from:FranceInsoumise\"Changement climatique\" OR \"Changement climatique\" OR \"Émissions\" OR \"Réchauffement climatique\" OR \"Urgence climatique\" OR \"Accords de Paris\" OR \"Gaz à effet de serre\" OR \"Accords de Paris\" OR \"Renouvelables\" OR \"Grève climatique\" OR \"Gouvernement climatique\" until:2017-6-11 since:2016-6-11\n"
     ]
    }
   ],
   "source": [
    "Melenchon = politico('from:JLMelenchon')\n",
    "NUPES = politico('from:FranceInsoumise')"
   ]
  },
  {
   "cell_type": "code",
   "execution_count": 8,
   "metadata": {},
   "outputs": [],
   "source": [
    "def somma(a , b) : \n",
    "    c = []\n",
    "    for i in range(len(a)) : \n",
    "        c.append(a[i] + b[i])\n",
    "\n",
    "    c[0] = c[2]/c[1]\n",
    "    return c"
   ]
  },
  {
   "cell_type": "code",
   "execution_count": 15,
   "metadata": {},
   "outputs": [
    {
     "name": "stderr",
     "output_type": "stream",
     "text": [
      "/tmp/ipykernel_14796/4200021465.py:20: SettingWithCopyWarning: \n",
      "A value is trying to be set on a copy of a slice from a DataFrame\n",
      "\n",
      "See the caveats in the documentation: https://pandas.pydata.org/pandas-docs/stable/user_guide/indexing.html#returning-a-view-versus-a-copy\n",
      "  Dati.Tweet_p[i] = '{:1.3f}'.format(Dati.Tweet_p[i])\n"
     ]
    }
   ],
   "source": [
    "#fonte : https://www.ipsos.com/fr-fr/1er-tour-legislatives-2017-sociologie-des-electorats-et-profil-des-abstentionnistes\n",
    "\n",
    "risultati = [32.2 , 11.03 , 14 , 21.5 ] \n",
    "risultati_U24 = [32 , 18 , 14 , 11]\n",
    "elettori_U24 = 2692374 * 0.37\n",
    "elettori2534 = 3825849 * 0.35\n",
    "risultati2534 = [33 , 21 , 13 , 9]\n",
    "partiti = ['ENS' , 'FI' , 'RN' , 'LR' ]\n",
    "tweet = [somma(Macron , Renaissance) , somma(NUPES , Melenchon) , somma(LePen , Rassemblement) , somma(Ciotti , Repubblicani) ]\n",
    "tweet_p = [somma(Macron , Renaissance)[0] , somma(NUPES , Melenchon)[0] , somma(LePen , Rassemblement)[0] , somma(Ciotti , Repubblicani)[0] ]\n",
    "colori = ['yellow' , 'red' , 'blue' , 'lightblue']\n",
    "\n",
    "dati = {'Partiti' : partiti , 'Tweet' : tweet , 'Risultati' : risultati , 'Colori' : colori , 'Tweet_p' : tweet_p , \n",
    "'Risultati_U25' : risultati_U24 , '25-34' : risultati2534}\n",
    "Dati = pd.DataFrame(dati)\n",
    "Dati['Risultati_U35'] = (elettori_U24 * Dati.Risultati_U25 + elettori2534 * Dati['25-34']) / (elettori_U24 + elettori2534)\n",
    "Dati.Tweet_p = (Dati.Tweet_p*50)\n",
    "Dati.sort_values(by = 'Tweet_p' , inplace = True , ignore_index = True)\n",
    "for i in range(len(Dati.Tweet)) :\n",
    "    Dati.Tweet_p[i] = '{:1.3f}'.format(Dati.Tweet_p[i])"
   ]
  },
  {
   "cell_type": "code",
   "execution_count": 16,
   "metadata": {},
   "outputs": [
    {
     "data": {
      "image/png": "[encoded data removed]",
      "text/plain": [
       "<Figure size 640x480 with 1 Axes>"
      ]
     },
     "metadata": {},
     "output_type": "display_data"
    }
   ],
   "source": [
    "ax = Dati.plot.bar(x = 'Tweet_p' , y = 'Risultati'  , color= Dati['Colori'].array , legend = False , \n",
    "xlabel = 'Tweet on global warming (%)' , ylabel = 'Results (%)' , title = \"French election 2017\")\n",
    "\n",
    "counter = 0\n",
    "for patch in ax.patches :\n",
    "    bl = patch.get_xy()\n",
    "    x = 0.5 * patch.get_width() + bl[0] \n",
    "    y = patch.get_height() + bl[1] +0.2\n",
    "    ax.text(x,y,(Dati.Partiti[counter]),\n",
    "            ha='center', rotation='horizontal')\n",
    "    counter = counter +1"
   ]
  },
  {
   "cell_type": "code",
   "execution_count": 14,
   "metadata": {},
   "outputs": [],
   "source": [
    "Dati.to_csv('Elezioni2017.csv' , index=False)"
   ]
  }
 ],
 "metadata": {
  "kernelspec": {
   "display_name": "Python 3",
   "language": "python",
   "name": "python3"
  },
  "language_info": {
   "codemirror_mode": {
    "name": "ipython",
    "version": 3
   },
   "file_extension": ".py",
   "mimetype": "text/x-python",
   "name": "python",
   "nbconvert_exporter": "python",
   "pygments_lexer": "ipython3",
   "version": "3.8.10"
  },
  "orig_nbformat": 4
 },
 "nbformat": 4,
 "nbformat_minor": 2
}
