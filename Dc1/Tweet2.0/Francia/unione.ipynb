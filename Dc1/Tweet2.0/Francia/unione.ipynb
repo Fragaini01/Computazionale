{
 "cells": [
  {
   "cell_type": "code",
   "execution_count": 1,
   "metadata": {},
   "outputs": [],
   "source": [
    "import pandas as pd\n",
    "from matplotlib import pyplot as plt"
   ]
  },
  {
   "cell_type": "code",
   "execution_count": 7,
   "metadata": {},
   "outputs": [],
   "source": [
    "E22 = pd.read_csv('/home/francesco/Codici/Computazionale/Dc1/Tweet2.0/Francia/Elezioni2022.csv' )\n",
    "E17 = pd.read_csv('/home/francesco/Codici/Computazionale/Dc1/Tweet2.0/Francia/Elezioni2017.csv' )"
   ]
  },
  {
   "cell_type": "code",
   "execution_count": 8,
   "metadata": {},
   "outputs": [],
   "source": [
    "E22['Year'] = 2022\n",
    "E17['Year'] = 2017\n",
    "\n",
    "tot = pd.merge(E22 , E17 ,how = 'outer')"
   ]
  },
  {
   "cell_type": "code",
   "execution_count": 9,
   "metadata": {},
   "outputs": [
    {
     "name": "stdout",
     "output_type": "stream",
     "text": [
      "               Risultati   Tweet_p  Risultati_U25     25-34  Risultati_U35  \\\n",
      "Risultati       1.000000  0.216362       0.578368  0.633927       0.616774   \n",
      "Tweet_p         0.216362  1.000000       0.433124  0.552978       0.506826   \n",
      "Risultati_U25   0.578368  0.433124       1.000000  0.953272       0.984924   \n",
      "25-34           0.633927  0.552978       0.953272  1.000000       0.991162   \n",
      "Risultati_U35   0.616774  0.506826       0.984924  0.991162       1.000000   \n",
      "Year            0.079329  0.474691       0.094202  0.060145       0.075778   \n",
      "\n",
      "                   Year  \n",
      "Risultati      0.079329  \n",
      "Tweet_p        0.474691  \n",
      "Risultati_U25  0.094202  \n",
      "25-34          0.060145  \n",
      "Risultati_U35  0.075778  \n",
      "Year           1.000000   \n",
      "                Risultati   Tweet_p  Risultati_U25     25-34  Risultati_U35  \\\n",
      "Risultati       1.000000  0.899620       0.580970  0.807153       0.714280   \n",
      "Tweet_p         0.899620  1.000000       0.527751  0.701331       0.631165   \n",
      "Risultati_U25   0.580970  0.527751       1.000000  0.946485       0.983848   \n",
      "25-34           0.807153  0.701331       0.946485  1.000000       0.988972   \n",
      "Risultati_U35   0.714280  0.631165       0.983848  0.988972       1.000000   \n",
      "Year                 NaN       NaN            NaN       NaN            NaN   \n",
      "\n",
      "               Year  \n",
      "Risultati       NaN  \n",
      "Tweet_p         NaN  \n",
      "Risultati_U25   NaN  \n",
      "25-34           NaN  \n",
      "Risultati_U35   NaN  \n",
      "Year            NaN   \n",
      "                Risultati   Tweet_p  Risultati_U25     25-34  Risultati_U35  \\\n",
      "Risultati       1.000000 -0.417959       0.704609  0.580302       0.631893   \n",
      "Tweet_p        -0.417959  1.000000       0.225540  0.397254       0.330734   \n",
      "Risultati_U25   0.704609  0.225540       1.000000  0.983531       0.993956   \n",
      "25-34           0.580302  0.397254       0.983531  1.000000       0.997428   \n",
      "Risultati_U35   0.631893  0.330734       0.993956  0.997428       1.000000   \n",
      "Year                 NaN       NaN            NaN       NaN            NaN   \n",
      "\n",
      "               Year  \n",
      "Risultati       NaN  \n",
      "Tweet_p         NaN  \n",
      "Risultati_U25   NaN  \n",
      "25-34           NaN  \n",
      "Risultati_U35   NaN  \n",
      "Year            NaN  \n"
     ]
    }
   ],
   "source": [
    "print(tot.corr() , '\\n'\n",
    ",E22.corr() , '\\n'\n",
    ",E17.corr())"
   ]
  },
  {
   "cell_type": "code",
   "execution_count": 10,
   "metadata": {},
   "outputs": [],
   "source": [
    "tot.to_csv('Francia.csv' , index = False)"
   ]
  }
 ],
 "metadata": {
  "kernelspec": {
   "display_name": "Python 3",
   "language": "python",
   "name": "python3"
  },
  "language_info": {
   "codemirror_mode": {
    "name": "ipython",
    "version": 3
   },
   "file_extension": ".py",
   "mimetype": "text/x-python",
   "name": "python",
   "nbconvert_exporter": "python",
   "pygments_lexer": "ipython3",
   "version": "3.8.10"
  },
  "orig_nbformat": 4
 },
 "nbformat": 4,
 "nbformat_minor": 2
}
