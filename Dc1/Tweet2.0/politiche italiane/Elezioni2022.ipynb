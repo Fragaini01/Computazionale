{
 "cells": [
  {
   "cell_type": "code",
   "execution_count": 1,
   "metadata": {},
   "outputs": [],
   "source": [
    "import snscrape\n",
    "import snscrape.modules.twitter as sn\n",
    "import numpy as np\n",
    "import pandas as pd\n",
    "from matplotlib import pyplot as plt"
   ]
  },
  {
   "cell_type": "code",
   "execution_count": 2,
   "metadata": {},
   "outputs": [],
   "source": [
    "def politico(nome) : \n",
    "    #Definizione ricerca\n",
    "    dizionario = ['\"Cambiamento climatico\"' , '\"Emissioni\"' , '\"Riscaldamento globale\"' ,\n",
    " '\"Emergenza climatica\"' ,'\"Accordi di Parigi\"' , '\"Gas serra\"' ,'\"AccordidiParigi\"', '\"rinnovabili\"' , '\"Sciopero climatico\"' , \n",
    " '\"Governo climatico\"']\n",
    "    claim = nome  + dizionario[0]\n",
    "    for i in dizionario :\n",
    "        claim = claim  + ' OR ' + i \n",
    "    claim = claim  + ' until:2022-9-25 since:2021-9-25'\n",
    "    print(claim)\n",
    "\n",
    "    #ricerca e conto\n",
    "    scrape = sn.TwitterSearchScraper(claim)\n",
    "    counter = 0\n",
    "    for i in scrape.get_items() :\n",
    "        counter = counter +1\n",
    "        \n",
    "    #conto totale    \n",
    "    claim = nome + ' until:2022-9-25 since:2021-9-25'\n",
    "    scrape = sn.TwitterSearchScraper(claim)\n",
    "    counter_tot = 0\n",
    "    for i in scrape.get_items() :\n",
    "        counter_tot = counter_tot +1\n",
    "\n",
    "    if(counter_tot  == 0) : print('Errore')\n",
    "\n",
    "    return counter/counter_tot , counter_tot , counter"
   ]
  },
  {
   "cell_type": "code",
   "execution_count": 3,
   "metadata": {},
   "outputs": [
    {
     "name": "stdout",
     "output_type": "stream",
     "text": [
      "lippo\n",
      "(from:matteosalvinimi)\"Cambiamento climatico\" OR \"Cambiamento climatico\" OR \"Emissioni\" OR \"Riscaldamento globale\" OR \"Emergenza climatica\" OR \"Accordi di Parigi\" OR \"Gas serra\" OR \"AccordidiParigi\" OR \"rinnovabili\" OR \"Sciopero climatico\" OR \"Governo climatico\" until:2022-9-25 since:2021-9-25\n",
      "lippo\n",
      "(from:CarloCalenda)\"Cambiamento climatico\" OR \"Cambiamento climatico\" OR \"Emissioni\" OR \"Riscaldamento globale\" OR \"Emergenza climatica\" OR \"Accordi di Parigi\" OR \"Gas serra\" OR \"AccordidiParigi\" OR \"rinnovabili\" OR \"Sciopero climatico\" OR \"Governo climatico\" until:2022-9-25 since:2021-9-25\n",
      "lippo\n",
      "(from:GiorgiaMeloni)\"Cambiamento climatico\" OR \"Cambiamento climatico\" OR \"Emissioni\" OR \"Riscaldamento globale\" OR \"Emergenza climatica\" OR \"Accordi di Parigi\" OR \"Gas serra\" OR \"AccordidiParigi\" OR \"rinnovabili\" OR \"Sciopero climatico\" OR \"Governo climatico\" until:2022-9-25 since:2021-9-25\n",
      "lippo\n",
      "(from:matteorenzi)\"Cambiamento climatico\" OR \"Cambiamento climatico\" OR \"Emissioni\" OR \"Riscaldamento globale\" OR \"Emergenza climatica\" OR \"Accordi di Parigi\" OR \"Gas serra\" OR \"AccordidiParigi\" OR \"rinnovabili\" OR \"Sciopero climatico\" OR \"Governo climatico\" until:2022-9-25 since:2021-9-25\n",
      "lippo\n",
      "(from:EnricoLetta)\"Cambiamento climatico\" OR \"Cambiamento climatico\" OR \"Emissioni\" OR \"Riscaldamento globale\" OR \"Emergenza climatica\" OR \"Accordi di Parigi\" OR \"Gas serra\" OR \"AccordidiParigi\" OR \"rinnovabili\" OR \"Sciopero climatico\" OR \"Governo climatico\" until:2022-9-25 since:2021-9-25\n",
      "lippo\n",
      "(from:GiuseppeConteIT)\"Cambiamento climatico\" OR \"Cambiamento climatico\" OR \"Emissioni\" OR \"Riscaldamento globale\" OR \"Emergenza climatica\" OR \"Accordi di Parigi\" OR \"Gas serra\" OR \"AccordidiParigi\" OR \"rinnovabili\" OR \"Sciopero climatico\" OR \"Governo climatico\" until:2022-9-25 since:2021-9-25\n",
      "lippo\n",
      "(from:berlusconi)\"Cambiamento climatico\" OR \"Cambiamento climatico\" OR \"Emissioni\" OR \"Riscaldamento globale\" OR \"Emergenza climatica\" OR \"Accordi di Parigi\" OR \"Gas serra\" OR \"AccordidiParigi\" OR \"rinnovabili\" OR \"Sciopero climatico\" OR \"Governo climatico\" until:2022-9-25 since:2021-9-25\n",
      "lippo\n",
      "(from:emmabonino)\"Cambiamento climatico\" OR \"Cambiamento climatico\" OR \"Emissioni\" OR \"Riscaldamento globale\" OR \"Emergenza climatica\" OR \"Accordi di Parigi\" OR \"Gas serra\" OR \"AccordidiParigi\" OR \"rinnovabili\" OR \"Sciopero climatico\" OR \"Governo climatico\" until:2022-9-25 since:2021-9-25\n"
     ]
    }
   ],
   "source": [
    "print('lippo')\n",
    "Salvini = politico('(from:matteosalvinimi)')\n",
    "print('lippo')\n",
    "Calenda = politico('(from:CarloCalenda)')\n",
    "print('lippo')\n",
    "Meloni = politico('(from:GiorgiaMeloni)')\n",
    "print('lippo')\n",
    "Renzi = politico('(from:matteorenzi)')\n",
    "print('lippo')\n",
    "Letta = politico('(from:EnricoLetta)')\n",
    "print('lippo')\n",
    "Conte = politico('(from:GiuseppeConteIT)')\n",
    "print('lippo')\n",
    "Silvio = politico('(from:berlusconi)')\n",
    "print('lippo')\n",
    "Emmina = politico('(from:emmabonino)')"
   ]
  },
  {
   "cell_type": "code",
   "execution_count": 4,
   "metadata": {},
   "outputs": [
    {
     "name": "stdout",
     "output_type": "stream",
     "text": [
      "lippo\n",
      "(from:LegaSalvini)\"Cambiamento climatico\" OR \"Cambiamento climatico\" OR \"Emissioni\" OR \"Riscaldamento globale\" OR \"Emergenza climatica\" OR \"Accordi di Parigi\" OR \"Gas serra\" OR \"AccordidiParigi\" OR \"rinnovabili\" OR \"Sciopero climatico\" OR \"Governo climatico\" until:2022-9-25 since:2021-9-25\n",
      "lippo\n",
      "(from:pdnetwork)\"Cambiamento climatico\" OR \"Cambiamento climatico\" OR \"Emissioni\" OR \"Riscaldamento globale\" OR \"Emergenza climatica\" OR \"Accordi di Parigi\" OR \"Gas serra\" OR \"AccordidiParigi\" OR \"rinnovabili\" OR \"Sciopero climatico\" OR \"Governo climatico\" until:2022-9-25 since:2021-9-25\n",
      "lippo\n",
      "(from:FratellidItalia)\"Cambiamento climatico\" OR \"Cambiamento climatico\" OR \"Emissioni\" OR \"Riscaldamento globale\" OR \"Emergenza climatica\" OR \"Accordi di Parigi\" OR \"Gas serra\" OR \"AccordidiParigi\" OR \"rinnovabili\" OR \"Sciopero climatico\" OR \"Governo climatico\" until:2022-9-25 since:2021-9-25\n",
      "lippo\n",
      "(from:Azione_it)\"Cambiamento climatico\" OR \"Cambiamento climatico\" OR \"Emissioni\" OR \"Riscaldamento globale\" OR \"Emergenza climatica\" OR \"Accordi di Parigi\" OR \"Gas serra\" OR \"AccordidiParigi\" OR \"rinnovabili\" OR \"Sciopero climatico\" OR \"Governo climatico\" until:2022-9-25 since:2021-9-25\n",
      "lippo\n",
      "(from:ItaliaViva)\"Cambiamento climatico\" OR \"Cambiamento climatico\" OR \"Emissioni\" OR \"Riscaldamento globale\" OR \"Emergenza climatica\" OR \"Accordi di Parigi\" OR \"Gas serra\" OR \"AccordidiParigi\" OR \"rinnovabili\" OR \"Sciopero climatico\" OR \"Governo climatico\" until:2022-9-25 since:2021-9-25\n",
      "lippo\n",
      "(from:Mov5Stelle)\"Cambiamento climatico\" OR \"Cambiamento climatico\" OR \"Emissioni\" OR \"Riscaldamento globale\" OR \"Emergenza climatica\" OR \"Accordi di Parigi\" OR \"Gas serra\" OR \"AccordidiParigi\" OR \"rinnovabili\" OR \"Sciopero climatico\" OR \"Governo climatico\" until:2022-9-25 since:2021-9-25\n",
      "lippo\n",
      "from:forza_italia\"Cambiamento climatico\" OR \"Cambiamento climatico\" OR \"Emissioni\" OR \"Riscaldamento globale\" OR \"Emergenza climatica\" OR \"Accordi di Parigi\" OR \"Gas serra\" OR \"AccordidiParigi\" OR \"rinnovabili\" OR \"Sciopero climatico\" OR \"Governo climatico\" until:2022-9-25 since:2021-9-25\n",
      "lippo\n",
      "(from:Piu_Europa)\"Cambiamento climatico\" OR \"Cambiamento climatico\" OR \"Emissioni\" OR \"Riscaldamento globale\" OR \"Emergenza climatica\" OR \"Accordi di Parigi\" OR \"Gas serra\" OR \"AccordidiParigi\" OR \"rinnovabili\" OR \"Sciopero climatico\" OR \"Governo climatico\" until:2022-9-25 since:2021-9-25\n"
     ]
    }
   ],
   "source": [
    "print('lippo')\n",
    "Lega = politico('(from:LegaSalvini)')\n",
    "print('lippo')\n",
    "Pd = politico('(from:pdnetwork)')\n",
    "print('lippo')\n",
    "FDI = politico('(from:FratellidItalia)')\n",
    "print('lippo')\n",
    "Azione = politico('(from:Azione_it)')\n",
    "print('lippo')\n",
    "Italia = politico('(from:ItaliaViva)')\n",
    "print('lippo')\n",
    "M5S = politico('(from:Mov5Stelle)')\n",
    "print('lippo')\n",
    "FI = politico('from:forza_italia')\n",
    "print('lippo')\n",
    "EU = politico('(from:Piu_Europa)')"
   ]
  },
  {
   "cell_type": "code",
   "execution_count": 5,
   "metadata": {},
   "outputs": [],
   "source": [
    "def somma(a , b) : \n",
    "    c = []\n",
    "    for i in range(len(a)) : \n",
    "        c.append(a[i] + b[i])\n",
    "\n",
    "    c[0] = c[2]/c[1]\n",
    "    return c"
   ]
  },
  {
   "cell_type": "code",
   "execution_count": 6,
   "metadata": {},
   "outputs": [
    {
     "name": "stderr",
     "output_type": "stream",
     "text": [
      "/tmp/ipykernel_4438/2214357887.py:14: SettingWithCopyWarning: \n",
      "A value is trying to be set on a copy of a slice from a DataFrame\n",
      "\n",
      "See the caveats in the documentation: https://pandas.pydata.org/pandas-docs/stable/user_guide/indexing.html#returning-a-view-versus-a-copy\n",
      "  Dati.Tweet_p[i] = '{:1.2f}'.format(Dati.Tweet_p[i])\n"
     ]
    },
    {
     "data": {
      "text/html": [
       "<div>\n",
       "<style scoped>\n",
       "    .dataframe tbody tr th:only-of-type {\n",
       "        vertical-align: middle;\n",
       "    }\n",
       "\n",
       "    .dataframe tbody tr th {\n",
       "        vertical-align: top;\n",
       "    }\n",
       "\n",
       "    .dataframe thead th {\n",
       "        text-align: right;\n",
       "    }\n",
       "</style>\n",
       "<table border=\"1\" class=\"dataframe\">\n",
       "  <thead>\n",
       "    <tr style=\"text-align: right;\">\n",
       "      <th></th>\n",
       "      <th>Partiti</th>\n",
       "      <th>Tweet</th>\n",
       "      <th>Risultati</th>\n",
       "      <th>Colori</th>\n",
       "      <th>Tweet_p</th>\n",
       "    </tr>\n",
       "  </thead>\n",
       "  <tbody>\n",
       "    <tr>\n",
       "      <th>0</th>\n",
       "      <td>Lega</td>\n",
       "      <td>[0.0009917741088617934, 17141, 17]</td>\n",
       "      <td>8.9</td>\n",
       "      <td>green</td>\n",
       "      <td>0.05</td>\n",
       "    </tr>\n",
       "    <tr>\n",
       "      <th>1</th>\n",
       "      <td>FDI</td>\n",
       "      <td>[0.0012509382036527395, 3997, 5]</td>\n",
       "      <td>26.0</td>\n",
       "      <td>blue</td>\n",
       "      <td>0.06</td>\n",
       "    </tr>\n",
       "    <tr>\n",
       "      <th>2</th>\n",
       "      <td>Azione</td>\n",
       "      <td>[0.006148250779355733, 11548, 71]</td>\n",
       "      <td>7.7</td>\n",
       "      <td>lime</td>\n",
       "      <td>0.31</td>\n",
       "    </tr>\n",
       "    <tr>\n",
       "      <th>3</th>\n",
       "      <td>FI</td>\n",
       "      <td>[0.007293354943273906, 1234, 9]</td>\n",
       "      <td>8.3</td>\n",
       "      <td>lightblue</td>\n",
       "      <td>0.36</td>\n",
       "    </tr>\n",
       "    <tr>\n",
       "      <th>4</th>\n",
       "      <td>Più Europa</td>\n",
       "      <td>[0.0076077768385460695, 1183, 9]</td>\n",
       "      <td>2.9</td>\n",
       "      <td>orange</td>\n",
       "      <td>0.38</td>\n",
       "    </tr>\n",
       "    <tr>\n",
       "      <th>5</th>\n",
       "      <td>PD</td>\n",
       "      <td>[0.014540922309929373, 2407, 35]</td>\n",
       "      <td>19.0</td>\n",
       "      <td>red</td>\n",
       "      <td>0.73</td>\n",
       "    </tr>\n",
       "    <tr>\n",
       "      <th>6</th>\n",
       "      <td>M5S</td>\n",
       "      <td>[0.019880715705765408, 3018, 60]</td>\n",
       "      <td>15.6</td>\n",
       "      <td>yellow</td>\n",
       "      <td>0.99</td>\n",
       "    </tr>\n",
       "  </tbody>\n",
       "</table>\n",
       "</div>"
      ],
      "text/plain": [
       "      Partiti                               Tweet  Risultati     Colori  \\\n",
       "0        Lega  [0.0009917741088617934, 17141, 17]        8.9      green   \n",
       "1         FDI    [0.0012509382036527395, 3997, 5]       26.0       blue   \n",
       "2      Azione   [0.006148250779355733, 11548, 71]        7.7       lime   \n",
       "3          FI     [0.007293354943273906, 1234, 9]        8.3  lightblue   \n",
       "4  Più Europa    [0.0076077768385460695, 1183, 9]        2.9     orange   \n",
       "5          PD    [0.014540922309929373, 2407, 35]       19.0        red   \n",
       "6         M5S    [0.019880715705765408, 3018, 60]       15.6     yellow   \n",
       "\n",
       "  Tweet_p  \n",
       "0    0.05  \n",
       "1    0.06  \n",
       "2    0.31  \n",
       "3    0.36  \n",
       "4    0.38  \n",
       "5    0.73  \n",
       "6    0.99  "
      ]
     },
     "execution_count": 6,
     "metadata": {},
     "output_type": "execute_result"
    }
   ],
   "source": [
    "risultati = [26  , 15.6  , 19 , 8.9 , 8.3 , 7.7 , 2.9  ]\n",
    "partiti = ['FDI' , 'M5S' , 'PD' , 'Lega' , 'FI' , 'Azione' , 'Più Europa' ]\n",
    "tweet = [somma(Meloni,FDI) , somma(Conte , M5S) , somma(Letta,Pd) , somma(Salvini,Lega) , somma(Silvio,FI)\n",
    "          , somma(somma(Calenda , Azione) , somma(Renzi , Italia)) , somma(EU,Emmina)  ]\n",
    "tweet_p = [somma(Meloni,FDI)[0] , somma(Conte , M5S)[0] , somma(Letta,Pd)[0] , somma(Salvini,Lega)[0] , somma(Silvio,FI)[0]\n",
    "          , somma(somma(Calenda , Azione) , somma(Renzi , Italia))[0] , somma(EU,Emmina)[0] ]\n",
    "colori = ['blue' , 'yellow' , 'red' ,'green' , 'lightblue' , 'lime' , 'orange'  ]\n",
    "\n",
    "dati = {'Partiti' : partiti , 'Tweet' : tweet , 'Risultati' : risultati , 'Colori' : colori , 'Tweet_p' : tweet_p}\n",
    "Dati = pd.DataFrame(dati)\n",
    "Dati.Tweet_p = (Dati.Tweet_p*50)\n",
    "Dati.sort_values(by = 'Tweet_p' , inplace = True , ignore_index = True)\n",
    "for i in range(len(Dati.Tweet)) :\n",
    "    Dati.Tweet_p[i] = '{:1.2f}'.format(Dati.Tweet_p[i])\n",
    "Dati"
   ]
  },
  {
   "cell_type": "code",
   "execution_count": 7,
   "metadata": {},
   "outputs": [
    {
     "data": {
      "image/png": "[encoded data removed]",
      "text/plain": [
       "<Figure size 640x480 with 1 Axes>"
      ]
     },
     "metadata": {},
     "output_type": "display_data"
    }
   ],
   "source": [
    "ax = Dati.plot.bar(x = 'Tweet_p' , y = 'Risultati'  , color= Dati['Colori'].array , legend = False , \n",
    "xlabel = 'Tweet on global warming (%)' , ylabel = 'Results (%)' , title = \"Italian election 2022\")\n",
    "\n",
    "counter = 0\n",
    "for patch in ax.patches :\n",
    "    bl = patch.get_xy()\n",
    "    x = 0.5 * patch.get_width() + bl[0] \n",
    "    y = patch.get_height() + bl[1] +0.2\n",
    "    ax.text(x,y,(Dati.Partiti[counter]),\n",
    "            ha='center', rotation='horizontal')\n",
    "    counter = counter +1\n"
   ]
  },
  {
   "cell_type": "code",
   "execution_count": 8,
   "metadata": {},
   "outputs": [],
   "source": [
    "Dati.to_csv('Elezioni2022.csv' , index=False)"
   ]
  }
 ],
 "metadata": {
  "kernelspec": {
   "display_name": "Python 3",
   "language": "python",
   "name": "python3"
  },
  "language_info": {
   "codemirror_mode": {
    "name": "ipython",
    "version": 3
   },
   "file_extension": ".py",
   "mimetype": "text/x-python",
   "name": "python",
   "nbconvert_exporter": "python",
   "pygments_lexer": "ipython3",
   "version": "3.8.10"
  },
  "orig_nbformat": 4
 },
 "nbformat": 4,
 "nbformat_minor": 2
}
