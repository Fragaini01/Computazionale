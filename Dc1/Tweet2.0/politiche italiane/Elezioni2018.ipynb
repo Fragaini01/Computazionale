{
 "cells": [
  {
   "cell_type": "code",
   "execution_count": 1,
   "metadata": {},
   "outputs": [],
   "source": [
    "import snscrape\n",
    "import snscrape.modules.twitter as sn\n",
    "import snscrape.modules.instagram as sni\n",
    "\n",
    "import numpy as np\n",
    "import pandas as pd\n",
    "from matplotlib import pyplot as plt"
   ]
  },
  {
   "cell_type": "code",
   "execution_count": 2,
   "metadata": {},
   "outputs": [],
   "source": [
    "def politico(nome) : \n",
    "    #Definizione ricerca\n",
    "    dizionario = ['\"Cambiamento climatico\"' , '\"Emissioni\"' , '\"Riscaldamento globale\"' ,\n",
    "    '\"Emergenza climatica\"' ,'\"Accordi di Parigi\"', '\"AccordidiParigi\"' , '\"Gas serra\"' , '\"rinnovabili\"' , '\"Sciopero climatico\"' ]\n",
    "    claim = nome  + dizionario[0]\n",
    "    for i in dizionario :\n",
    "        claim = claim  + ' OR ' + i \n",
    "    claim = claim  + ' until:2018-3-4 since:2017-3-4'\n",
    "    print(claim)\n",
    "\n",
    "    #ricerca e conto\n",
    "    scrape = sn.TwitterSearchScraper(claim)\n",
    "    counter = 0\n",
    "    for i in scrape.get_items() :\n",
    "        counter = counter +1\n",
    "        \n",
    "    #conto totale    \n",
    "    claim = nome + ' until:2018-3-4 since:2017-3-4'\n",
    "    scrape = sn.TwitterSearchScraper(claim)\n",
    "    counter_tot = 0\n",
    "    for i in scrape.get_items() :\n",
    "        counter_tot = counter_tot +1\n",
    "\n",
    "    if(counter_tot  == 0) : print('Errore')\n",
    "\n",
    "    return counter/counter_tot , counter_tot , counter"
   ]
  },
  {
   "cell_type": "code",
   "execution_count": 3,
   "metadata": {},
   "outputs": [],
   "source": [
    "def somma(a , b) : \n",
    "    c = []\n",
    "    for i in range(len(a)) : \n",
    "        c.append( a[i] + b[i])\n",
    "\n",
    "    c[0] = c[2]/c[1]\n",
    "    return c"
   ]
  },
  {
   "cell_type": "code",
   "execution_count": 9,
   "metadata": {},
   "outputs": [
    {
     "name": "stdout",
     "output_type": "stream",
     "text": [
      "lippo\n",
      "(from:matteosalvinimi)\"Cambiamento climatico\" OR \"Cambiamento climatico\" OR \"Emissioni\" OR \"Riscaldamento globale\" OR \"Emergenza climatica\" OR \"Accordi di Parigi\" OR \"AccordidiParigi\" OR \"Gas serra\" OR \"rinnovabili\" OR \"Sciopero climatico\" until:2018-3-4 since:2017-3-4\n",
      "lippo\n",
      "(from:GiorgiaMeloni)\"Cambiamento climatico\" OR \"Cambiamento climatico\" OR \"Emissioni\" OR \"Riscaldamento globale\" OR \"Emergenza climatica\" OR \"Accordi di Parigi\" OR \"AccordidiParigi\" OR \"Gas serra\" OR \"rinnovabili\" OR \"Sciopero climatico\" until:2018-3-4 since:2017-3-4\n",
      "lippo\n",
      "(from:matteorenzi)\"Cambiamento climatico\" OR \"Cambiamento climatico\" OR \"Emissioni\" OR \"Riscaldamento globale\" OR \"Emergenza climatica\" OR \"Accordi di Parigi\" OR \"AccordidiParigi\" OR \"Gas serra\" OR \"rinnovabili\" OR \"Sciopero climatico\" until:2018-3-4 since:2017-3-4\n",
      "lippo\n",
      "(from:luigidimaio)\"Cambiamento climatico\" OR \"Cambiamento climatico\" OR \"Emissioni\" OR \"Riscaldamento globale\" OR \"Emergenza climatica\" OR \"Accordi di Parigi\" OR \"AccordidiParigi\" OR \"Gas serra\" OR \"rinnovabili\" OR \"Sciopero climatico\" until:2018-3-4 since:2017-3-4\n",
      "lippo\n",
      "(from:berlusconi)\"Cambiamento climatico\" OR \"Cambiamento climatico\" OR \"Emissioni\" OR \"Riscaldamento globale\" OR \"Emergenza climatica\" OR \"Accordi di Parigi\" OR \"AccordidiParigi\" OR \"Gas serra\" OR \"rinnovabili\" OR \"Sciopero climatico\" until:2018-3-4 since:2017-3-4\n"
     ]
    }
   ],
   "source": [
    "print('lippo')\n",
    "Salvini = politico('(from:matteosalvinimi)')\n",
    "print('lippo')\n",
    "Meloni = politico('(from:GiorgiaMeloni)')\n",
    "print('lippo')\n",
    "Renzi = politico('(from:matteorenzi)')\n",
    "print('lippo')\n",
    "DiMaio = politico('(from:luigidimaio)')\n",
    "print('lippo')\n",
    "Silvio = politico('(from:berlusconi)')"
   ]
  },
  {
   "cell_type": "code",
   "execution_count": 5,
   "metadata": {},
   "outputs": [
    {
     "name": "stdout",
     "output_type": "stream",
     "text": [
      "lippo\n",
      "(from:LegaSalvini)\"Cambiamento climatico\" OR \"Cambiamento climatico\" OR \"Emissioni\" OR \"Riscaldamento globale\" OR \"Emergenza climatica\" OR \"Accordi di Parigi\" OR \"AccordidiParigi\" OR \"Gas serra\" OR \"rinnovabili\" OR \"Sciopero climatico\" until:2018-3-4 since:2017-3-4\n",
      "lippo\n",
      "(from:pdnetwork)\"Cambiamento climatico\" OR \"Cambiamento climatico\" OR \"Emissioni\" OR \"Riscaldamento globale\" OR \"Emergenza climatica\" OR \"Accordi di Parigi\" OR \"AccordidiParigi\" OR \"Gas serra\" OR \"rinnovabili\" OR \"Sciopero climatico\" until:2018-3-4 since:2017-3-4\n",
      "lippo\n",
      "(from:FratellidItalia)\"Cambiamento climatico\" OR \"Cambiamento climatico\" OR \"Emissioni\" OR \"Riscaldamento globale\" OR \"Emergenza climatica\" OR \"Accordi di Parigi\" OR \"AccordidiParigi\" OR \"Gas serra\" OR \"rinnovabili\" OR \"Sciopero climatico\" until:2018-3-4 since:2017-3-4\n",
      "lippo\n",
      "(from:Mov5Stelle)\"Cambiamento climatico\" OR \"Cambiamento climatico\" OR \"Emissioni\" OR \"Riscaldamento globale\" OR \"Emergenza climatica\" OR \"Accordi di Parigi\" OR \"AccordidiParigi\" OR \"Gas serra\" OR \"rinnovabili\" OR \"Sciopero climatico\" until:2018-3-4 since:2017-3-4\n",
      "lippo\n",
      "from:forza_italia\"Cambiamento climatico\" OR \"Cambiamento climatico\" OR \"Emissioni\" OR \"Riscaldamento globale\" OR \"Emergenza climatica\" OR \"Accordi di Parigi\" OR \"AccordidiParigi\" OR \"Gas serra\" OR \"rinnovabili\" OR \"Sciopero climatico\" until:2018-3-4 since:2017-3-4\n"
     ]
    }
   ],
   "source": [
    "print('lippo')\n",
    "Lega = politico('(from:LegaSalvini)')\n",
    "print('lippo')\n",
    "Pd = politico('(from:pdnetwork)')\n",
    "print('lippo')\n",
    "FDI = politico('(from:FratellidItalia)')\n",
    "print('lippo')\n",
    "M5S = politico('(from:Mov5Stelle)')\n",
    "print('lippo')\n",
    "FI = politico('from:forza_italia')"
   ]
  },
  {
   "cell_type": "code",
   "execution_count": 10,
   "metadata": {},
   "outputs": [
    {
     "name": "stderr",
     "output_type": "stream",
     "text": [
      "/tmp/ipykernel_85456/2718679319.py:12: SettingWithCopyWarning: \n",
      "A value is trying to be set on a copy of a slice from a DataFrame\n",
      "\n",
      "See the caveats in the documentation: https://pandas.pydata.org/pandas-docs/stable/user_guide/indexing.html#returning-a-view-versus-a-copy\n",
      "  Dati.Tweet_p[i] = '{:1.3f}'.format(Dati.Tweet_p[i])\n"
     ]
    },
    {
     "data": {
      "text/html": [
       "<div>\n",
       "<style scoped>\n",
       "    .dataframe tbody tr th:only-of-type {\n",
       "        vertical-align: middle;\n",
       "    }\n",
       "\n",
       "    .dataframe tbody tr th {\n",
       "        vertical-align: top;\n",
       "    }\n",
       "\n",
       "    .dataframe thead th {\n",
       "        text-align: right;\n",
       "    }\n",
       "</style>\n",
       "<table border=\"1\" class=\"dataframe\">\n",
       "  <thead>\n",
       "    <tr style=\"text-align: right;\">\n",
       "      <th></th>\n",
       "      <th>Partiti</th>\n",
       "      <th>Tweet</th>\n",
       "      <th>Risultati</th>\n",
       "      <th>Colori</th>\n",
       "      <th>Tweet_p</th>\n",
       "    </tr>\n",
       "  </thead>\n",
       "  <tbody>\n",
       "    <tr>\n",
       "      <th>0</th>\n",
       "      <td>FDI</td>\n",
       "      <td>[0.0, 2853, 0]</td>\n",
       "      <td>4.30</td>\n",
       "      <td>blue</td>\n",
       "      <td>0.000</td>\n",
       "    </tr>\n",
       "    <tr>\n",
       "      <th>1</th>\n",
       "      <td>FI</td>\n",
       "      <td>[0.0, 2259, 0]</td>\n",
       "      <td>14.04</td>\n",
       "      <td>lightblue</td>\n",
       "      <td>0.000</td>\n",
       "    </tr>\n",
       "    <tr>\n",
       "      <th>2</th>\n",
       "      <td>Lega</td>\n",
       "      <td>[0.00019705210057539214, 25374, 5]</td>\n",
       "      <td>17.36</td>\n",
       "      <td>green</td>\n",
       "      <td>0.010</td>\n",
       "    </tr>\n",
       "    <tr>\n",
       "      <th>3</th>\n",
       "      <td>PD</td>\n",
       "      <td>[0.0007742934572202865, 2583, 2]</td>\n",
       "      <td>18.81</td>\n",
       "      <td>red</td>\n",
       "      <td>0.039</td>\n",
       "    </tr>\n",
       "    <tr>\n",
       "      <th>4</th>\n",
       "      <td>M5S</td>\n",
       "      <td>[0.003207184092366902, 1559, 5]</td>\n",
       "      <td>32.68</td>\n",
       "      <td>yellow</td>\n",
       "      <td>0.160</td>\n",
       "    </tr>\n",
       "  </tbody>\n",
       "</table>\n",
       "</div>"
      ],
      "text/plain": [
       "  Partiti                               Tweet  Risultati     Colori Tweet_p\n",
       "0     FDI                      [0.0, 2853, 0]       4.30       blue   0.000\n",
       "1      FI                      [0.0, 2259, 0]      14.04  lightblue   0.000\n",
       "2    Lega  [0.00019705210057539214, 25374, 5]      17.36      green   0.010\n",
       "3      PD    [0.0007742934572202865, 2583, 2]      18.81        red   0.039\n",
       "4     M5S     [0.003207184092366902, 1559, 5]      32.68     yellow   0.160"
      ]
     },
     "execution_count": 10,
     "metadata": {},
     "output_type": "execute_result"
    }
   ],
   "source": [
    "risultati = [4.3  , 32.68 , 18.81 , 17.36 , 14.04  ]\n",
    "partiti = ['FDI' , 'M5S' , 'PD' , 'Lega' , 'FI'  ]\n",
    "tweet = [somma(Meloni,FDI) , somma(DiMaio , M5S) , somma(Renzi,Pd) , somma(Salvini,Lega) , somma(Silvio,FI)]\n",
    "tweet_p  = [somma(Meloni,FDI)[0] , somma(DiMaio , M5S)[0] , somma(Renzi,Pd)[0] , somma(Salvini,Lega)[0] , somma(Silvio,FI)[0]]\n",
    "colori = ['blue' , 'yellow' , 'red' ,'green' , 'lightblue' ]\n",
    "\n",
    "dati = {'Partiti' : partiti , 'Tweet' : tweet , 'Risultati' : risultati , 'Colori' : colori , 'Tweet_p' : tweet_p}\n",
    "Dati = pd.DataFrame(dati)\n",
    "Dati.Tweet_p = (Dati.Tweet_p * 50)\n",
    "Dati.sort_values(by = 'Tweet_p' , inplace = True , ignore_index = True)\n",
    "for i in range(len(Dati.Tweet_p)) :\n",
    "    Dati.Tweet_p[i] = '{:1.3f}'.format(Dati.Tweet_p[i])\n",
    "Dati"
   ]
  },
  {
   "cell_type": "code",
   "execution_count": 11,
   "metadata": {},
   "outputs": [
    {
     "data": {
      "image/png": "[encoded data removed]",
      "text/plain": [
       "<Figure size 640x480 with 1 Axes>"
      ]
     },
     "metadata": {},
     "output_type": "display_data"
    }
   ],
   "source": [
    "ax = Dati.plot.bar(x = 'Tweet_p' , y = 'Risultati'  , color= Dati['Colori'].array , legend = False , \n",
    "xlabel = 'Tweet on global warming (%)' , ylabel = 'Election results (%)' , title = \"Italian election 2018\")\n",
    "\n",
    "counter = 0\n",
    "for patch in ax.patches :\n",
    "    bl = patch.get_xy()\n",
    "    x = 0.5 * patch.get_width() + bl[0] \n",
    "    y = patch.get_height() + bl[1] +0.2\n",
    "    ax.text(x,y,(Dati.Partiti[counter]),\n",
    "            ha='center', rotation='horizontal')\n",
    "    counter = counter +1"
   ]
  },
  {
   "cell_type": "code",
   "execution_count": 12,
   "metadata": {},
   "outputs": [],
   "source": [
    "Dati.to_csv('Elezioni2018.csv' , index=False)"
   ]
  }
 ],
 "metadata": {
  "kernelspec": {
   "display_name": "Python 3",
   "language": "python",
   "name": "python3"
  },
  "language_info": {
   "codemirror_mode": {
    "name": "ipython",
    "version": 3
   },
   "file_extension": ".py",
   "mimetype": "text/x-python",
   "name": "python",
   "nbconvert_exporter": "python",
   "pygments_lexer": "ipython3",
   "version": "3.8.10"
  },
  "orig_nbformat": 4
 },
 "nbformat": 4,
 "nbformat_minor": 2
}
