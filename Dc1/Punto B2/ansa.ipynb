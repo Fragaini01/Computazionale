{
 "cells": [
  {
   "cell_type": "code",
   "execution_count": 2,
   "metadata": {},
   "outputs": [],
   "source": [
    "import snscrape\n",
    "import snscrape.modules.twitter as sn\n",
    "import numpy as np\n",
    "import pandas as pd\n",
    "from matplotlib import pyplot as plt"
   ]
  },
  {
   "cell_type": "code",
   "execution_count": 3,
   "metadata": {},
   "outputs": [],
   "source": [
    "scrape = sn.TwitterSearchScraper('\"Riscaldamento globale\" \"Gas Serra\" lang:it')\n",
    "dati = []\n",
    "counter = 0\n",
    "for i in scrape.get_items() :\n",
    "    counter = counter +1\n",
    "    dati.append(i)\n",
    "    if counter > 1e4 : break\n",
    "\n",
    "date    = []\n",
    "url     = []\n",
    "raw     = []\n",
    "user    = []\n",
    "links   = []\n",
    "reply   = []\n",
    "like    = []\n",
    "quote   = []\n",
    "retweet = []\n",
    "\n",
    "for i in dati :\n",
    "    date   .append(i.date)\n",
    "    url    .append(i.url)\n",
    "    raw    .append(i.rawContent)\n",
    "    user   .append(i.user)\n",
    "    links  .append(i.links)\n",
    "    reply  .append(i.replyCount)\n",
    "    like   .append(i.likeCount)\n",
    "    quote  .append(i.quoteCount)\n",
    "    retweet.append(i.retweetCount)"
   ]
  },
  {
   "cell_type": "code",
   "execution_count": 7,
   "metadata": {},
   "outputs": [],
   "source": [
    "totale = {'Data' : date , 'url' : url , 'raw' : raw , 'utente' : user , 'links' : links , 'risposte' : reply , 'like' : like , 'quote' : quote , 'retweet' : retweet}\n",
    "Ansa = pd.DataFrame(totale)"
   ]
  },
  {
   "cell_type": "code",
   "execution_count": 8,
   "metadata": {},
   "outputs": [
    {
     "data": {
      "text/html": [
       "<div>\n",
       "<style scoped>\n",
       "    .dataframe tbody tr th:only-of-type {\n",
       "        vertical-align: middle;\n",
       "    }\n",
       "\n",
       "    .dataframe tbody tr th {\n",
       "        vertical-align: top;\n",
       "    }\n",
       "\n",
       "    .dataframe thead th {\n",
       "        text-align: right;\n",
       "    }\n",
       "</style>\n",
       "<table border=\"1\" class=\"dataframe\">\n",
       "  <thead>\n",
       "    <tr style=\"text-align: right;\">\n",
       "      <th></th>\n",
       "      <th>risposte</th>\n",
       "      <th>like</th>\n",
       "      <th>quote</th>\n",
       "      <th>retweet</th>\n",
       "    </tr>\n",
       "  </thead>\n",
       "  <tbody>\n",
       "    <tr>\n",
       "      <th>count</th>\n",
       "      <td>611.000000</td>\n",
       "      <td>611.000000</td>\n",
       "      <td>611.000000</td>\n",
       "      <td>611.000000</td>\n",
       "    </tr>\n",
       "    <tr>\n",
       "      <th>mean</th>\n",
       "      <td>0.502455</td>\n",
       "      <td>3.373159</td>\n",
       "      <td>0.094926</td>\n",
       "      <td>1.346972</td>\n",
       "    </tr>\n",
       "    <tr>\n",
       "      <th>std</th>\n",
       "      <td>3.148965</td>\n",
       "      <td>14.230706</td>\n",
       "      <td>0.512938</td>\n",
       "      <td>4.686647</td>\n",
       "    </tr>\n",
       "    <tr>\n",
       "      <th>min</th>\n",
       "      <td>0.000000</td>\n",
       "      <td>0.000000</td>\n",
       "      <td>0.000000</td>\n",
       "      <td>0.000000</td>\n",
       "    </tr>\n",
       "    <tr>\n",
       "      <th>25%</th>\n",
       "      <td>0.000000</td>\n",
       "      <td>0.000000</td>\n",
       "      <td>0.000000</td>\n",
       "      <td>0.000000</td>\n",
       "    </tr>\n",
       "    <tr>\n",
       "      <th>50%</th>\n",
       "      <td>0.000000</td>\n",
       "      <td>0.000000</td>\n",
       "      <td>0.000000</td>\n",
       "      <td>0.000000</td>\n",
       "    </tr>\n",
       "    <tr>\n",
       "      <th>75%</th>\n",
       "      <td>0.000000</td>\n",
       "      <td>2.000000</td>\n",
       "      <td>0.000000</td>\n",
       "      <td>1.000000</td>\n",
       "    </tr>\n",
       "    <tr>\n",
       "      <th>max</th>\n",
       "      <td>73.000000</td>\n",
       "      <td>223.000000</td>\n",
       "      <td>6.000000</td>\n",
       "      <td>70.000000</td>\n",
       "    </tr>\n",
       "  </tbody>\n",
       "</table>\n",
       "</div>"
      ],
      "text/plain": [
       "         risposte        like       quote     retweet\n",
       "count  611.000000  611.000000  611.000000  611.000000\n",
       "mean     0.502455    3.373159    0.094926    1.346972\n",
       "std      3.148965   14.230706    0.512938    4.686647\n",
       "min      0.000000    0.000000    0.000000    0.000000\n",
       "25%      0.000000    0.000000    0.000000    0.000000\n",
       "50%      0.000000    0.000000    0.000000    0.000000\n",
       "75%      0.000000    2.000000    0.000000    1.000000\n",
       "max     73.000000  223.000000    6.000000   70.000000"
      ]
     },
     "execution_count": 8,
     "metadata": {},
     "output_type": "execute_result"
    },
    {
     "data": {
      "image/png": "[encoded data removed]",
      "text/plain": [
       "<Figure size 640x480 with 1 Axes>"
      ]
     },
     "metadata": {},
     "output_type": "display_data"
    }
   ],
   "source": [
    "plt.hist(Ansa.Data)\n",
    "Ansa.describe()"
   ]
  },
  {
   "cell_type": "code",
   "execution_count": 6,
   "metadata": {},
   "outputs": [],
   "source": [
    "Ansa.to_csv('Riscaldamento_Globale&Gas_Serra_Tot.csv', index=False)"
   ]
  }
 ],
 "metadata": {
  "kernelspec": {
   "display_name": "Python 3",
   "language": "python",
   "name": "python3"
  },
  "language_info": {
   "codemirror_mode": {
    "name": "ipython",
    "version": 3
   },
   "file_extension": ".py",
   "mimetype": "text/x-python",
   "name": "python",
   "nbconvert_exporter": "python",
   "pygments_lexer": "ipython3",
   "version": "3.8.10"
  },
  "orig_nbformat": 4
 },
 "nbformat": 4,
 "nbformat_minor": 2
}
